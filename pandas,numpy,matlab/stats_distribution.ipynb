{
  "nbformat": 4,
  "nbformat_minor": 0,
  "metadata": {
    "colab": {
      "name": "stats_distribution.ipynb",
      "provenance": []
    },
    "kernelspec": {
      "name": "python3",
      "display_name": "Python 3"
    }
  },
  "cells": [
    {
      "cell_type": "markdown",
      "metadata": {
        "id": "JjaCewpH9nAN",
        "colab_type": "text"
      },
      "source": [
        "***GAUSSIAN DISTRIBUTION***"
      ]
    },
    {
      "cell_type": "markdown",
      "metadata": {
        "id": "G1dYLjMV6UC_",
        "colab_type": "text"
      },
      "source": [
        "scipy.stats.norm() is a normal continuous random variable.\n",
        " It is inherited from the of generic methods as an instance of the rv_continuous class. It completes the methods with details specific for this particular distribution.\n"
      ]
    },
    {
      "cell_type": "code",
      "metadata": {
        "id": "NaZ45B6u6Aif",
        "colab_type": "code",
        "colab": {
          "base_uri": "https://localhost:8080/",
          "height": 34
        },
        "outputId": "3acf98ad-080a-48e3-de5a-1e40ed38f324"
      },
      "source": [
        "from scipy.stats import norm\n",
        "import numpy as np\n",
        "import matplotlib.pyplot as plt\n",
        "numargs=norm.numargs\n",
        "a,b=4.32,3.18\n",
        "rv=norm(a,b)\n",
        "print(rv)\n"
      ],
      "execution_count": 4,
      "outputs": [
        {
          "output_type": "stream",
          "text": [
            "<scipy.stats._distn_infrastructure.rv_frozen object at 0x7f83b0b31ac8>\n"
          ],
          "name": "stdout"
        }
      ]
    },
    {
      "cell_type": "code",
      "metadata": {
        "id": "XW8IrzuI7bKC",
        "colab_type": "code",
        "colab": {
          "base_uri": "https://localhost:8080/",
          "height": 136
        },
        "outputId": "6edc8f9b-5938-4b32-ffa0-85cc9eb02c2e"
      },
      "source": [
        "import numpy as np \n",
        "quantile = np.arange (0.01, 1, 0.1) \n",
        "\n",
        "# Random Variates \n",
        "R = norm.rvs(a, b) \n",
        "print (\"Random Variates : \\n\", R) \n",
        "\n",
        "# PDF \n",
        "R = norm.pdf(a, b, quantile) \n",
        "print (\"\\nProbability Distribution : \\n\", R) \n"
      ],
      "execution_count": 5,
      "outputs": [
        {
          "output_type": "stream",
          "text": [
            "Random Variates : \n",
            " 7.467111580404213\n",
            "\n",
            "Probability Distribution : \n",
            " [0.00000000e+00 1.72515030e-23 7.57695185e-07 1.48928058e-03\n",
            " 2.03862091e-02 6.43213365e-02 1.14069546e-01 1.54822160e-01\n",
            " 1.82936660e-01 2.00024445e-01]\n"
          ],
          "name": "stdout"
        }
      ]
    },
    {
      "cell_type": "code",
      "metadata": {
        "id": "19JU3u7H6tzg",
        "colab_type": "code",
        "colab": {
          "base_uri": "https://localhost:8080/",
          "height": 435
        },
        "outputId": "e79781cb-6af9-4551-8321-d4ab50a037e7"
      },
      "source": [
        "import numpy as np \n",
        "import matplotlib.pyplot as plt \n",
        "\t\n",
        "distribution = np.linspace(0, np.minimum(rv.dist.b, 3)) \n",
        "print(\"Distribution : \\n\", distribution) \n",
        "\t\n",
        "plot = plt.plot(distribution, rv.pdf(distribution)) \n"
      ],
      "execution_count": 6,
      "outputs": [
        {
          "output_type": "stream",
          "text": [
            "Distribution : \n",
            " [0.         0.06122449 0.12244898 0.18367347 0.24489796 0.30612245\n",
            " 0.36734694 0.42857143 0.48979592 0.55102041 0.6122449  0.67346939\n",
            " 0.73469388 0.79591837 0.85714286 0.91836735 0.97959184 1.04081633\n",
            " 1.10204082 1.16326531 1.2244898  1.28571429 1.34693878 1.40816327\n",
            " 1.46938776 1.53061224 1.59183673 1.65306122 1.71428571 1.7755102\n",
            " 1.83673469 1.89795918 1.95918367 2.02040816 2.08163265 2.14285714\n",
            " 2.20408163 2.26530612 2.32653061 2.3877551  2.44897959 2.51020408\n",
            " 2.57142857 2.63265306 2.69387755 2.75510204 2.81632653 2.87755102\n",
            " 2.93877551 3.        ]\n"
          ],
          "name": "stdout"
        },
        {
          "output_type": "display_data",
          "data": {
            "image/png": "[encoded data removed]",
            "text/plain": [
              "<Figure size 432x288 with 1 Axes>"
            ]
          },
          "metadata": {
            "tags": [],
            "needs_background": "light"
          }
        }
      ]
    },
    {
      "cell_type": "code",
      "metadata": {
        "id": "YfdzFssZ7BE3",
        "colab_type": "code",
        "colab": {}
      },
      "source": [
        ""
      ],
      "execution_count": 0,
      "outputs": []
    },
    {
      "cell_type": "markdown",
      "metadata": {
        "id": "vlk4pNlz71El",
        "colab_type": "text"
      },
      "source": [
        "GIVEN:\n",
        "At a facility that manufactures electrical resistors, a statistical sample of 1-kΩ resistors is pulled from the production line. The resistor's resistances are measured and recorded. A mean resistance of 979.8 kΩ and a standard deviation of 73.10 kΩ represents the sample of resistors. The desired resistance tolerance for the 1-kΩ resistors is ± 10%. This tolerance range means the acceptable range of resistance is 900 Ω to 1100 Ω.\n",
        "\n",
        "FIND:\n",
        "Assuming a normal distribution, determine the probability that a resistor coming off the production line will be within spec (in the range of 900 Ω to 1100 Ω). Show the probability that a resistor picked off the production line is within spec on a plot."
      ]
    },
    {
      "cell_type": "code",
      "metadata": {
        "id": "cP3SnZ5373SQ",
        "colab_type": "code",
        "colab": {}
      },
      "source": [
        "mu = 998.8 \n",
        "# mean\n",
        "sigma = 73.10\n",
        "# standard deviation\n",
        "x1 = 900\n",
        "# lower bound\n",
        "x2 = 1100\n",
        "# upper bound"
      ],
      "execution_count": 0,
      "outputs": []
    },
    {
      "cell_type": "code",
      "metadata": {
        "id": "hY7NHqaG8Af6",
        "colab_type": "code",
        "colab": {}
      },
      "source": [
        "# calculate the z-transform\n",
        "z1 = ( x1 - mu ) / sigma\n",
        "z2 = ( x2 - mu ) / sigma"
      ],
      "execution_count": 0,
      "outputs": []
    },
    {
      "cell_type": "markdown",
      "metadata": {
        "id": "Vbr4nqdb8z_g",
        "colab_type": "text"
      },
      "source": [
        "https://docs.scipy.org/doc/scipy/reference/generated/scipy.stats.norm.html#scipy.stats.norm\n",
        "\n",
        "\n",
        "Description of norm"
      ]
    },
    {
      "cell_type": "code",
      "metadata": {
        "id": "P7zt1R9e8OJe",
        "colab_type": "code",
        "colab": {}
      },
      "source": [
        "x=np.arange(z1,z2,0.001)\n",
        "x_all=np.arange(-10,10,0.001)\n",
        "y=norm.pdf(x,0,1)\n",
        "y2=norm.pdf(x_all,0,1)"
      ],
      "execution_count": 0,
      "outputs": []
    },
    {
      "cell_type": "code",
      "metadata": {
        "id": "vp6-nEdK9Te3",
        "colab_type": "code",
        "colab": {
          "base_uri": "https://localhost:8080/",
          "height": 441
        },
        "outputId": "46ca8bce-fc61-4553-922c-d3fa01c9ed74"
      },
      "source": [
        "fig, ax = plt.subplots(figsize=(9,6))\n",
        "plt.style.use('fivethirtyeight')\n",
        "ax.plot(x_all,y2)\n",
        "\n",
        "ax.fill_between(x,y,0, alpha=0.3, color='b')\n",
        "ax.fill_between(x_all,y2,0, alpha=0.1)\n",
        "ax.set_xlim([-4,4])\n",
        "ax.set_xlabel('# of Standard Deviations Outside the Mean')\n",
        "ax.set_yticklabels([])\n",
        "ax.set_title('Normal Gaussian Curve')\n",
        "\n",
        "plt.savefig('normal_curve.png', dpi=72, bbox_inches='tight')\n",
        "plt.show()"
      ],
      "execution_count": 12,
      "outputs": [
        {
          "output_type": "display_data",
          "data": {
            "image/png": "[encoded data removed]",
            "text/plain": [
              "<Figure size 648x432 with 1 Axes>"
            ]
          },
          "metadata": {
            "tags": []
          }
        }
      ]
    },
    {
      "cell_type": "markdown",
      "metadata": {
        "id": "HAhSX4DD9ww-",
        "colab_type": "text"
      },
      "source": [
        "***LOG NORMAL DISTRIBUTION***"
      ]
    },
    {
      "cell_type": "code",
      "metadata": {
        "id": "Zi9VcsKG9wcd",
        "colab_type": "code",
        "colab": {
          "base_uri": "https://localhost:8080/",
          "height": 34
        },
        "outputId": "a8c2a84a-817c-4b34-8357-f5005db001af"
      },
      "source": [
        "from scipy.stats import lognorm\n",
        "\n",
        "numargs=lognorm.numargs\n",
        "a,b=4.32,3.18\n",
        "rv=lognorm(a,b)\n",
        "print(rv)"
      ],
      "execution_count": 14,
      "outputs": [
        {
          "output_type": "stream",
          "text": [
            "<scipy.stats._distn_infrastructure.rv_frozen object at 0x7f83b020a400>\n"
          ],
          "name": "stdout"
        }
      ]
    },
    {
      "cell_type": "code",
      "metadata": {
        "id": "hV7eM-Bv-kyp",
        "colab_type": "code",
        "colab": {
          "base_uri": "https://localhost:8080/",
          "height": 119
        },
        "outputId": "301c8a5f-1f0c-4473-df52-69a47decffb7"
      },
      "source": [
        "import numpy as np \n",
        "quantile = np.arange (0.01, 1, 0.1) \n",
        "\n",
        "# Random Variates \n",
        "R = lognorm.rvs(a, b) \n",
        "print (\"Random Variates : \\n\", R) \n",
        "\n",
        "# PDF \n",
        "R = lognorm.pdf(a, b, quantile) \n",
        "print (\"\\nProbability Distribution : \\n\", R) \n"
      ],
      "execution_count": 15,
      "outputs": [
        {
          "output_type": "stream",
          "text": [
            "Random Variates : \n",
            " 24630.438661596734\n",
            "\n",
            "Probability Distribution : \n",
            " [0.02619234 0.02690484 0.02765301 0.0284395  0.02926727 0.03013955\n",
            " 0.03105993 0.03203241 0.03306142 0.03415191]\n"
          ],
          "name": "stdout"
        }
      ]
    },
    {
      "cell_type": "code",
      "metadata": {
        "id": "I8If52tL-PTw",
        "colab_type": "code",
        "colab": {
          "base_uri": "https://localhost:8080/",
          "height": 452
        },
        "outputId": "7c97cea3-1934-450a-a4cb-0760c9eb7256"
      },
      "source": [
        "import numpy as np \n",
        "import matplotlib.pyplot as plt \n",
        "\t\n",
        "distribution = np.linspace(0, np.minimum(rv.dist.b, 3)) \n",
        "print(\"Distribution : \\n\", distribution) \n",
        "\t\n",
        "plot = plt.plot(distribution, rv.pdf(distribution)) \n"
      ],
      "execution_count": 16,
      "outputs": [
        {
          "output_type": "stream",
          "text": [
            "Distribution : \n",
            " [0.         0.06122449 0.12244898 0.18367347 0.24489796 0.30612245\n",
            " 0.36734694 0.42857143 0.48979592 0.55102041 0.6122449  0.67346939\n",
            " 0.73469388 0.79591837 0.85714286 0.91836735 0.97959184 1.04081633\n",
            " 1.10204082 1.16326531 1.2244898  1.28571429 1.34693878 1.40816327\n",
            " 1.46938776 1.53061224 1.59183673 1.65306122 1.71428571 1.7755102\n",
            " 1.83673469 1.89795918 1.95918367 2.02040816 2.08163265 2.14285714\n",
            " 2.20408163 2.26530612 2.32653061 2.3877551  2.44897959 2.51020408\n",
            " 2.57142857 2.63265306 2.69387755 2.75510204 2.81632653 2.87755102\n",
            " 2.93877551 3.        ]\n"
          ],
          "name": "stdout"
        },
        {
          "output_type": "display_data",
          "data": {
            "image/png": "[encoded data removed]",
            "text/plain": [
              "<Figure size 432x288 with 1 Axes>"
            ]
          },
          "metadata": {
            "tags": []
          }
        }
      ]
    },
    {
      "cell_type": "code",
      "metadata": {
        "id": "M049V22D-5Et",
        "colab_type": "code",
        "colab": {
          "base_uri": "https://localhost:8080/",
          "height": 316
        },
        "outputId": "022559f3-baff-4932-de8c-bde99688dfcd"
      },
      "source": [
        "import matplotlib.pyplot as plt \n",
        "import numpy as np \n",
        "\t\n",
        "x = np.linspace(0, 5, 100) \n",
        "\t\n",
        "# Varying positional arguments \n",
        "y1 = lognorm .pdf(x, 1, 3) \n",
        "y2 = lognorm .pdf(x, 1, 4) \n",
        "plt.plot(x, y1, \"*\", x, y2, \"r--\") \n"
      ],
      "execution_count": 17,
      "outputs": [
        {
          "output_type": "execute_result",
          "data": {
            "text/plain": [
              "[<matplotlib.lines.Line2D at 0x7f83b011f470>,\n",
              " <matplotlib.lines.Line2D at 0x7f83b011f630>]"
            ]
          },
          "metadata": {
            "tags": []
          },
          "execution_count": 17
        },
        {
          "output_type": "display_data",
          "data": {
            "image/png": "[encoded data removed]",
            "text/plain": [
              "<Figure size 432x288 with 1 Axes>"
            ]
          },
          "metadata": {
            "tags": []
          }
        }
      ]
    },
    {
      "cell_type": "code",
      "metadata": {
        "id": "NvWoY0A7ASap",
        "colab_type": "code",
        "colab": {}
      },
      "source": [
        ""
      ],
      "execution_count": 0,
      "outputs": []
    }
  ]
}