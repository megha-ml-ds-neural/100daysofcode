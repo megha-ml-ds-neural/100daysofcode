{
  "nbformat": 4,
  "nbformat_minor": 0,
  "metadata": {
    "colab": {
      "name": "play_with_numbers_array_numpy.ipynb",
      "provenance": []
    },
    "kernelspec": {
      "name": "python3",
      "display_name": "Python 3"
    }
  },
  "cells": [
    {
      "cell_type": "markdown",
      "metadata": {
        "id": "7F6Z4RMQz3VY",
        "colab_type": "text"
      },
      "source": [
        "IMPORTING NUMPY "
      ]
    },
    {
      "cell_type": "code",
      "metadata": {
        "id": "WQba8xxjzbpa",
        "colab_type": "code",
        "colab": {}
      },
      "source": [
        "import numpy as np"
      ],
      "execution_count": 0,
      "outputs": []
    },
    {
      "cell_type": "markdown",
      "metadata": {
        "id": "PCdt3FXNz7ff",
        "colab_type": "text"
      },
      "source": [
        "FIXED-TYPE ARRAYS IN PYTHON"
      ]
    },
    {
      "cell_type": "code",
      "metadata": {
        "id": "kXZuJhco0eeG",
        "colab_type": "code",
        "colab": {
          "base_uri": "https://localhost:8080/",
          "height": 34
        },
        "outputId": "889897b5-6107-48ec-f085-c2dddf356293"
      },
      "source": [
        "import array\n",
        "L=list(range(10))\n",
        "A=array.array('i',L)\n",
        "A\n",
        "# i is used for indicating integers...."
      ],
      "execution_count": 1,
      "outputs": [
        {
          "output_type": "execute_result",
          "data": {
            "text/plain": [
              "array('i', [0, 1, 2, 3, 4, 5, 6, 7, 8, 9])"
            ]
          },
          "metadata": {
            "tags": []
          },
          "execution_count": 1
        }
      ]
    },
    {
      "cell_type": "markdown",
      "metadata": {
        "id": "RK4erRNv02gV",
        "colab_type": "text"
      },
      "source": [
        "Now using numpy...creating array from python lists"
      ]
    },
    {
      "cell_type": "code",
      "metadata": {
        "id": "Wpc1ZSyQ1uXj",
        "colab_type": "code",
        "colab": {
          "base_uri": "https://localhost:8080/",
          "height": 34
        },
        "outputId": "af8fc27e-3797-4dcc-a6b4-23aaf0b9a88c"
      },
      "source": [
        "import numpy as np\n",
        "np.array([1,4,2,5])"
      ],
      "execution_count": 3,
      "outputs": [
        {
          "output_type": "execute_result",
          "data": {
            "text/plain": [
              "array([1, 4, 2, 5])"
            ]
          },
          "metadata": {
            "tags": []
          },
          "execution_count": 3
        }
      ]
    },
    {
      "cell_type": "code",
      "metadata": {
        "id": "qbTCPoGY18h6",
        "colab_type": "code",
        "colab": {
          "base_uri": "https://localhost:8080/",
          "height": 34
        },
        "outputId": "3e768e4b-940e-434a-e01d-906c0e2ba2f5"
      },
      "source": [
        "np.array([1.4,5,6,7,8])"
      ],
      "execution_count": 4,
      "outputs": [
        {
          "output_type": "execute_result",
          "data": {
            "text/plain": [
              "array([1.4, 5. , 6. , 7. , 8. ])"
            ]
          },
          "metadata": {
            "tags": []
          },
          "execution_count": 4
        }
      ]
    },
    {
      "cell_type": "markdown",
      "metadata": {
        "id": "U0hN5R6-2cWL",
        "colab_type": "text"
      },
      "source": [
        "Tw0 -dimensional array"
      ]
    },
    {
      "cell_type": "code",
      "metadata": {
        "id": "ewpVlhLZ1_4N",
        "colab_type": "code",
        "colab": {
          "base_uri": "https://localhost:8080/",
          "height": 68
        },
        "outputId": "e04f7589-77da-44d1-dda0-27b53d3dd4df"
      },
      "source": [
        "np.array([range(t,t+3) for t in [2,4,6]])\n"
      ],
      "execution_count": 5,
      "outputs": [
        {
          "output_type": "execute_result",
          "data": {
            "text/plain": [
              "array([[2, 3, 4],\n",
              "       [4, 5, 6],\n",
              "       [6, 7, 8]])"
            ]
          },
          "metadata": {
            "tags": []
          },
          "execution_count": 5
        }
      ]
    },
    {
      "cell_type": "markdown",
      "metadata": {
        "id": "QgFFpqP12nrq",
        "colab_type": "text"
      },
      "source": [
        "creating arrays from scratch"
      ]
    },
    {
      "cell_type": "code",
      "metadata": {
        "id": "ZyB1513Q2rnw",
        "colab_type": "code",
        "colab": {
          "base_uri": "https://localhost:8080/",
          "height": 34
        },
        "outputId": "942d30f2-17ec-40d3-e979-6d0da56b82bd"
      },
      "source": [
        "np.zeros(10,dtype=int)"
      ],
      "execution_count": 6,
      "outputs": [
        {
          "output_type": "execute_result",
          "data": {
            "text/plain": [
              "array([0, 0, 0, 0, 0, 0, 0, 0, 0, 0])"
            ]
          },
          "metadata": {
            "tags": []
          },
          "execution_count": 6
        }
      ]
    },
    {
      "cell_type": "code",
      "metadata": {
        "id": "yMKACFAc2wK_",
        "colab_type": "code",
        "colab": {
          "base_uri": "https://localhost:8080/",
          "height": 68
        },
        "outputId": "b04377fb-b6c1-44e6-b937-1f095ba88f2c"
      },
      "source": [
        "np.ones((3,5),dtype=float)"
      ],
      "execution_count": 7,
      "outputs": [
        {
          "output_type": "execute_result",
          "data": {
            "text/plain": [
              "array([[1., 1., 1., 1., 1.],\n",
              "       [1., 1., 1., 1., 1.],\n",
              "       [1., 1., 1., 1., 1.]])"
            ]
          },
          "metadata": {
            "tags": []
          },
          "execution_count": 7
        }
      ]
    },
    {
      "cell_type": "code",
      "metadata": {
        "id": "NNFZBmH_20Q0",
        "colab_type": "code",
        "colab": {
          "base_uri": "https://localhost:8080/",
          "height": 68
        },
        "outputId": "bb6dc715-9908-4b2d-94c2-dd4e60d12864"
      },
      "source": [
        "# fill 3 by 5 matrix with 3.15 values...\n",
        "np.full((3,5),3.15)"
      ],
      "execution_count": 8,
      "outputs": [
        {
          "output_type": "execute_result",
          "data": {
            "text/plain": [
              "array([[3.15, 3.15, 3.15, 3.15, 3.15],\n",
              "       [3.15, 3.15, 3.15, 3.15, 3.15],\n",
              "       [3.15, 3.15, 3.15, 3.15, 3.15]])"
            ]
          },
          "metadata": {
            "tags": []
          },
          "execution_count": 8
        }
      ]
    },
    {
      "cell_type": "markdown",
      "metadata": {
        "id": "m9IztiGP3F7t",
        "colab_type": "text"
      },
      "source": [
        "***creating an array filled with a linear sequence starting at 0, ending at 20,stepping by 2***"
      ]
    },
    {
      "cell_type": "code",
      "metadata": {
        "id": "036rWyD63Pjw",
        "colab_type": "code",
        "colab": {
          "base_uri": "https://localhost:8080/",
          "height": 34
        },
        "outputId": "6ad0c179-b591-4df3-a245-f935dc4d0941"
      },
      "source": [
        "np.arange(0,20,2)"
      ],
      "execution_count": 9,
      "outputs": [
        {
          "output_type": "execute_result",
          "data": {
            "text/plain": [
              "array([ 0,  2,  4,  6,  8, 10, 12, 14, 16, 18])"
            ]
          },
          "metadata": {
            "tags": []
          },
          "execution_count": 9
        }
      ]
    },
    {
      "cell_type": "markdown",
      "metadata": {
        "id": "7mkVYLjh3g1G",
        "colab_type": "text"
      },
      "source": [
        "creat an array of five values evenly spaced between 0 and 1"
      ]
    },
    {
      "cell_type": "code",
      "metadata": {
        "id": "0hNxZLbL3aEl",
        "colab_type": "code",
        "colab": {
          "base_uri": "https://localhost:8080/",
          "height": 34
        },
        "outputId": "8da2af6d-02ea-4dea-c54c-a1ecdbfb1a69"
      },
      "source": [
        "np.linspace(0,1,5)"
      ],
      "execution_count": 10,
      "outputs": [
        {
          "output_type": "execute_result",
          "data": {
            "text/plain": [
              "array([0.  , 0.25, 0.5 , 0.75, 1.  ])"
            ]
          },
          "metadata": {
            "tags": []
          },
          "execution_count": 10
        }
      ]
    },
    {
      "cell_type": "markdown",
      "metadata": {
        "id": "SjVxKKVg3uiQ",
        "colab_type": "text"
      },
      "source": [
        "create an 3x3 matrix array of uniformly distributes random values between 0 and 1"
      ]
    },
    {
      "cell_type": "code",
      "metadata": {
        "id": "wP1wq35P3rIK",
        "colab_type": "code",
        "colab": {
          "base_uri": "https://localhost:8080/",
          "height": 68
        },
        "outputId": "50080de5-15fa-48fb-a698-9392a2b95dfc"
      },
      "source": [
        "np.random.random((3,3))"
      ],
      "execution_count": 11,
      "outputs": [
        {
          "output_type": "execute_result",
          "data": {
            "text/plain": [
              "array([[0.29333148, 0.75262059, 0.19104868],\n",
              "       [0.73653681, 0.60099739, 0.33121645],\n",
              "       [0.77263559, 0.98983633, 0.38501247]])"
            ]
          },
          "metadata": {
            "tags": []
          },
          "execution_count": 11
        }
      ]
    },
    {
      "cell_type": "markdown",
      "metadata": {
        "id": "GPFrKaCs4rk3",
        "colab_type": "text"
      },
      "source": [
        "create a 3x3 matrix of normally distributed random values with mean 0 and standard deviation 1"
      ]
    },
    {
      "cell_type": "code",
      "metadata": {
        "id": "KAdz3mN03_kQ",
        "colab_type": "code",
        "colab": {
          "base_uri": "https://localhost:8080/",
          "height": 68
        },
        "outputId": "0a637b4d-6a72-4187-9712-f80cc86d72a4"
      },
      "source": [
        "np.random.normal(0,1,(3,3))"
      ],
      "execution_count": 12,
      "outputs": [
        {
          "output_type": "execute_result",
          "data": {
            "text/plain": [
              "array([[ 1.00919713,  0.84668892, -0.45029454],\n",
              "       [ 0.13942575,  1.09436739,  0.77433435],\n",
              "       [ 0.65869065, -0.35313369,  0.366594  ]])"
            ]
          },
          "metadata": {
            "tags": []
          },
          "execution_count": 12
        }
      ]
    },
    {
      "cell_type": "markdown",
      "metadata": {
        "id": "EoALNDgc5NnF",
        "colab_type": "text"
      },
      "source": [
        "create a 3x3 matrix indentity matrix"
      ]
    },
    {
      "cell_type": "code",
      "metadata": {
        "id": "UeLH0RK45E7y",
        "colab_type": "code",
        "colab": {
          "base_uri": "https://localhost:8080/",
          "height": 68
        },
        "outputId": "56c5eea5-6f22-4779-d2fd-29ddf89d2209"
      },
      "source": [
        "np.eye(3)"
      ],
      "execution_count": 13,
      "outputs": [
        {
          "output_type": "execute_result",
          "data": {
            "text/plain": [
              "array([[1., 0., 0.],\n",
              "       [0., 1., 0.],\n",
              "       [0., 0., 1.]])"
            ]
          },
          "metadata": {
            "tags": []
          },
          "execution_count": 13
        }
      ]
    },
    {
      "cell_type": "markdown",
      "metadata": {
        "id": "Qm8sem0R5zP-",
        "colab_type": "text"
      },
      "source": [
        "NUMPY STANDARD DATA TYPES"
      ]
    },
    {
      "cell_type": "code",
      "metadata": {
        "id": "Lv4sy6675nub",
        "colab_type": "code",
        "colab": {
          "base_uri": "https://localhost:8080/",
          "height": 34
        },
        "outputId": "9fd49ca6-f29d-45a0-8edd-ada7239f3fa5"
      },
      "source": [
        "np.zeros(10,dtype='int16')"
      ],
      "execution_count": 14,
      "outputs": [
        {
          "output_type": "execute_result",
          "data": {
            "text/plain": [
              "array([0, 0, 0, 0, 0, 0, 0, 0, 0, 0], dtype=int16)"
            ]
          },
          "metadata": {
            "tags": []
          },
          "execution_count": 14
        }
      ]
    },
    {
      "cell_type": "markdown",
      "metadata": {
        "id": "mj5MnibS6JOr",
        "colab_type": "text"
      },
      "source": [
        "NUMPY ARRAY ATTRIBUTES"
      ]
    },
    {
      "cell_type": "markdown",
      "metadata": {
        "id": "AEBpYxpY6ynC",
        "colab_type": "text"
      },
      "source": [
        "https://www.geeksforgeeks.org/random-seed-in-python/\n",
        "\n",
        "\n",
        "DETAILED DESCRIPTION OF RANDOM.SEED()"
      ]
    },
    {
      "cell_type": "code",
      "metadata": {
        "id": "Cm3petsX6O_r",
        "colab_type": "code",
        "colab": {
          "base_uri": "https://localhost:8080/",
          "height": 34
        },
        "outputId": "0be471ae-c268-4c91-e9b2-9c1d3b566ea4"
      },
      "source": [
        "  import numpy as np\n",
        "  np.random.seed(0)\n",
        "  x1=np.random.randint(10,size=6)\n",
        "  x1"
      ],
      "execution_count": 15,
      "outputs": [
        {
          "output_type": "execute_result",
          "data": {
            "text/plain": [
              "array([5, 0, 3, 3, 7, 9])"
            ]
          },
          "metadata": {
            "tags": []
          },
          "execution_count": 15
        }
      ]
    },
    {
      "cell_type": "code",
      "metadata": {
        "id": "JSpYW2pf7Bvc",
        "colab_type": "code",
        "colab": {
          "base_uri": "https://localhost:8080/",
          "height": 68
        },
        "outputId": "94a60f00-9867-4833-aa38-6452860bd293"
      },
      "source": [
        "#  two dimensional array  \n",
        "x2=np.random.randint(10,size=(3,4))\n",
        "x2"
      ],
      "execution_count": 17,
      "outputs": [
        {
          "output_type": "execute_result",
          "data": {
            "text/plain": [
              "array([[3, 5, 2, 4],\n",
              "       [7, 6, 8, 8],\n",
              "       [1, 6, 7, 7]])"
            ]
          },
          "metadata": {
            "tags": []
          },
          "execution_count": 17
        }
      ]
    },
    {
      "cell_type": "markdown",
      "metadata": {
        "id": "E1LFlPpz8063",
        "colab_type": "text"
      },
      "source": [
        "***ARRAY INDEXING***"
      ]
    },
    {
      "cell_type": "markdown",
      "metadata": {
        "id": "Qf3bYYgl9Ao_",
        "colab_type": "text"
      },
      "source": [
        "https://www.w3schools.com/python/numpy_array_indexing.asp\n",
        "\n",
        "Better understanding and practice..visit this link."
      ]
    },
    {
      "cell_type": "code",
      "metadata": {
        "id": "1QVuAwDJ8tRB",
        "colab_type": "code",
        "colab": {
          "base_uri": "https://localhost:8080/",
          "height": 34
        },
        "outputId": "b6ed3c4b-975f-47af-8015-f2180839d9e2"
      },
      "source": [
        "x1"
      ],
      "execution_count": 18,
      "outputs": [
        {
          "output_type": "execute_result",
          "data": {
            "text/plain": [
              "array([5, 0, 3, 3, 7, 9])"
            ]
          },
          "metadata": {
            "tags": []
          },
          "execution_count": 18
        }
      ]
    },
    {
      "cell_type": "code",
      "metadata": {
        "id": "SoSd9DCr9NNp",
        "colab_type": "code",
        "colab": {
          "base_uri": "https://localhost:8080/",
          "height": 34
        },
        "outputId": "e5f6f308-407e-43dc-8483-446d7ace6be8"
      },
      "source": [
        "x1[0]"
      ],
      "execution_count": 19,
      "outputs": [
        {
          "output_type": "execute_result",
          "data": {
            "text/plain": [
              "5"
            ]
          },
          "metadata": {
            "tags": []
          },
          "execution_count": 19
        }
      ]
    },
    {
      "cell_type": "code",
      "metadata": {
        "id": "UX5MxW2w9Oht",
        "colab_type": "code",
        "colab": {
          "base_uri": "https://localhost:8080/",
          "height": 34
        },
        "outputId": "e27cfb12-78af-4058-9678-db5baa475104"
      },
      "source": [
        "x1[4]"
      ],
      "execution_count": 20,
      "outputs": [
        {
          "output_type": "execute_result",
          "data": {
            "text/plain": [
              "7"
            ]
          },
          "metadata": {
            "tags": []
          },
          "execution_count": 20
        }
      ]
    },
    {
      "cell_type": "markdown",
      "metadata": {
        "id": "U4kXzjA39SH-",
        "colab_type": "text"
      },
      "source": [
        "to index from the end of the array ,you can use negative values"
      ]
    },
    {
      "cell_type": "code",
      "metadata": {
        "id": "lUV8jbRy9Qh2",
        "colab_type": "code",
        "colab": {
          "base_uri": "https://localhost:8080/",
          "height": 34
        },
        "outputId": "88aed762-7add-4bba-8039-7f286a18bb7b"
      },
      "source": [
        "x1[-1]"
      ],
      "execution_count": 21,
      "outputs": [
        {
          "output_type": "execute_result",
          "data": {
            "text/plain": [
              "9"
            ]
          },
          "metadata": {
            "tags": []
          },
          "execution_count": 21
        }
      ]
    },
    {
      "cell_type": "code",
      "metadata": {
        "id": "eIfSdbI99abZ",
        "colab_type": "code",
        "colab": {
          "base_uri": "https://localhost:8080/",
          "height": 34
        },
        "outputId": "1cf02fae-33ec-4845-bed0-62eeae3b3bf3"
      },
      "source": [
        "x1[-2]"
      ],
      "execution_count": 22,
      "outputs": [
        {
          "output_type": "execute_result",
          "data": {
            "text/plain": [
              "7"
            ]
          },
          "metadata": {
            "tags": []
          },
          "execution_count": 22
        }
      ]
    },
    {
      "cell_type": "code",
      "metadata": {
        "id": "mBm1zznE9fcG",
        "colab_type": "code",
        "colab": {
          "base_uri": "https://localhost:8080/",
          "height": 180
        },
        "outputId": "3d00fa63-40ba-41e1-a0a8-f54f8bfc942b"
      },
      "source": [
        "# Take all the elements except...?\n",
        "# x[start:stop:step]"
      ],
      "execution_count": 24,
      "outputs": [
        {
          "output_type": "error",
          "ename": "NameError",
          "evalue": "ignored",
          "traceback": [
            "\u001b[0;31m---------------------------------------------------------------------------\u001b[0m",
            "\u001b[0;31mNameError\u001b[0m                                 Traceback (most recent call last)",
            "\u001b[0;32m<ipython-input-24-a66a2fbf6092>\u001b[0m in \u001b[0;36m<module>\u001b[0;34m()\u001b[0m\n\u001b[1;32m      1\u001b[0m \u001b[0;31m# Take all the elements except...?\u001b[0m\u001b[0;34m\u001b[0m\u001b[0;34m\u001b[0m\u001b[0;34m\u001b[0m\u001b[0m\n\u001b[0;32m----> 2\u001b[0;31m \u001b[0mx\u001b[0m\u001b[0;34m[\u001b[0m\u001b[0mstart\u001b[0m\u001b[0;34m:\u001b[0m\u001b[0mstop\u001b[0m\u001b[0;34m:\u001b[0m\u001b[0mstep\u001b[0m\u001b[0;34m]\u001b[0m\u001b[0;34m\u001b[0m\u001b[0;34m\u001b[0m\u001b[0m\n\u001b[0m",
            "\u001b[0;31mNameError\u001b[0m: name 'x' is not defined"
          ]
        }
      ]
    },
    {
      "cell_type": "code",
      "metadata": {
        "id": "QjAL1GCS-aef",
        "colab_type": "code",
        "colab": {
          "base_uri": "https://localhost:8080/",
          "height": 34
        },
        "outputId": "e666a160-3c39-4478-ab35-51ec20629ce9"
      },
      "source": [
        "x=np.arange(10)\n",
        "x"
      ],
      "execution_count": 28,
      "outputs": [
        {
          "output_type": "execute_result",
          "data": {
            "text/plain": [
              "array([0, 1, 2, 3, 4, 5, 6, 7, 8, 9])"
            ]
          },
          "metadata": {
            "tags": []
          },
          "execution_count": 28
        }
      ]
    },
    {
      "cell_type": "code",
      "metadata": {
        "id": "8f1d6dxz-Azr",
        "colab_type": "code",
        "colab": {
          "base_uri": "https://localhost:8080/",
          "height": 34
        },
        "outputId": "f82eabcd-fa0c-45e4-e2b3-d2cee15fefe7"
      },
      "source": [
        "x[:5] \n",
        "# first five elements"
      ],
      "execution_count": 29,
      "outputs": [
        {
          "output_type": "execute_result",
          "data": {
            "text/plain": [
              "array([0, 1, 2, 3, 4])"
            ]
          },
          "metadata": {
            "tags": []
          },
          "execution_count": 29
        }
      ]
    },
    {
      "cell_type": "code",
      "metadata": {
        "id": "qCCHgQcx-IN3",
        "colab_type": "code",
        "colab": {
          "base_uri": "https://localhost:8080/",
          "height": 34
        },
        "outputId": "eb19d22d-883e-46bc-f730-85af7a9e370c"
      },
      "source": [
        "x[5:]\n",
        "# last five elements"
      ],
      "execution_count": 30,
      "outputs": [
        {
          "output_type": "execute_result",
          "data": {
            "text/plain": [
              "array([5, 6, 7, 8, 9])"
            ]
          },
          "metadata": {
            "tags": []
          },
          "execution_count": 30
        }
      ]
    },
    {
      "cell_type": "code",
      "metadata": {
        "id": "5Bs1nv47-FFi",
        "colab_type": "code",
        "colab": {
          "base_uri": "https://localhost:8080/",
          "height": 34
        },
        "outputId": "62eef272-7ddf-40d6-b289-c2d0fdbe825e"
      },
      "source": [
        "x[1:6:2]"
      ],
      "execution_count": 31,
      "outputs": [
        {
          "output_type": "execute_result",
          "data": {
            "text/plain": [
              "array([1, 3, 5])"
            ]
          },
          "metadata": {
            "tags": []
          },
          "execution_count": 31
        }
      ]
    },
    {
      "cell_type": "code",
      "metadata": {
        "id": "ixJfWbNd9cql",
        "colab_type": "code",
        "colab": {
          "base_uri": "https://localhost:8080/",
          "height": 34
        },
        "outputId": "6ed6aeb0-950b-47e8-8f0a-e57f6465543c"
      },
      "source": [
        "x[:-1]\n",
        "# in this all the elemnets are visible except the last element."
      ],
      "execution_count": 32,
      "outputs": [
        {
          "output_type": "execute_result",
          "data": {
            "text/plain": [
              "array([0, 1, 2, 3, 4, 5, 6, 7, 8])"
            ]
          },
          "metadata": {
            "tags": []
          },
          "execution_count": 32
        }
      ]
    },
    {
      "cell_type": "code",
      "metadata": {
        "id": "mytD-uFW57HU",
        "colab_type": "code",
        "colab": {
          "base_uri": "https://localhost:8080/",
          "height": 34
        },
        "outputId": "3c15847e-217d-4d68-e158-62f61fe0166a"
      },
      "source": [
        "x[1::2]"
      ],
      "execution_count": 33,
      "outputs": [
        {
          "output_type": "execute_result",
          "data": {
            "text/plain": [
              "array([1, 3, 5, 7, 9])"
            ]
          },
          "metadata": {
            "tags": []
          },
          "execution_count": 33
        }
      ]
    },
    {
      "cell_type": "markdown",
      "metadata": {
        "id": "iCM1Qe9V_Pa_",
        "colab_type": "text"
      },
      "source": [
        "IMP. concept asked in interview..reversing."
      ]
    },
    {
      "cell_type": "code",
      "metadata": {
        "id": "zb-f-4U225ss",
        "colab_type": "code",
        "colab": {
          "base_uri": "https://localhost:8080/",
          "height": 34
        },
        "outputId": "72220c87-da3a-42a8-c557-c663e87ce394"
      },
      "source": [
        "x[::-1]\n",
        "# reverse of array"
      ],
      "execution_count": 35,
      "outputs": [
        {
          "output_type": "execute_result",
          "data": {
            "text/plain": [
              "array([9, 8, 7, 6, 5, 4, 3, 2, 1, 0])"
            ]
          },
          "metadata": {
            "tags": []
          },
          "execution_count": 35
        }
      ]
    },
    {
      "cell_type": "code",
      "metadata": {
        "id": "AgyvIraz_Z--",
        "colab_type": "code",
        "colab": {
          "base_uri": "https://localhost:8080/",
          "height": 34
        },
        "outputId": "debcb150-c522-441a-992b-686f4a62ad4f"
      },
      "source": [
        "x[5::-2]\n",
        "# reverse every other from index 5"
      ],
      "execution_count": 36,
      "outputs": [
        {
          "output_type": "execute_result",
          "data": {
            "text/plain": [
              "array([5, 3, 1])"
            ]
          },
          "metadata": {
            "tags": []
          },
          "execution_count": 36
        }
      ]
    },
    {
      "cell_type": "markdown",
      "metadata": {
        "id": "ybLw3-LL_qCC",
        "colab_type": "text"
      },
      "source": [
        "***MULTIDIMENSIONAL ARRAYS***"
      ]
    },
    {
      "cell_type": "code",
      "metadata": {
        "id": "uzUB85we_kiy",
        "colab_type": "code",
        "colab": {
          "base_uri": "https://localhost:8080/",
          "height": 68
        },
        "outputId": "bf1701ee-49ee-42bc-961b-8a73c27fca4e"
      },
      "source": [
        "x2"
      ],
      "execution_count": 37,
      "outputs": [
        {
          "output_type": "execute_result",
          "data": {
            "text/plain": [
              "array([[3, 5, 2, 4],\n",
              "       [7, 6, 8, 8],\n",
              "       [1, 6, 7, 7]])"
            ]
          },
          "metadata": {
            "tags": []
          },
          "execution_count": 37
        }
      ]
    },
    {
      "cell_type": "code",
      "metadata": {
        "id": "7mNgDXaT_1H1",
        "colab_type": "code",
        "colab": {
          "base_uri": "https://localhost:8080/",
          "height": 51
        },
        "outputId": "57bd1338-e31d-4380-c153-736e5ea3e1b7"
      },
      "source": [
        "x2[:2,:3]\n",
        "# two rows,three cols"
      ],
      "execution_count": 39,
      "outputs": [
        {
          "output_type": "execute_result",
          "data": {
            "text/plain": [
              "array([[3, 5, 2],\n",
              "       [7, 6, 8]])"
            ]
          },
          "metadata": {
            "tags": []
          },
          "execution_count": 39
        }
      ]
    },
    {
      "cell_type": "code",
      "metadata": {
        "id": "Du7jvV48_8xg",
        "colab_type": "code",
        "colab": {
          "base_uri": "https://localhost:8080/",
          "height": 68
        },
        "outputId": "cc8628b3-6d9c-4f35-db29-2a90fb2e4ca5"
      },
      "source": [
        "x2[:3,::2]\n",
        "# all rows,every other cols"
      ],
      "execution_count": 40,
      "outputs": [
        {
          "output_type": "execute_result",
          "data": {
            "text/plain": [
              "array([[3, 2],\n",
              "       [7, 8],\n",
              "       [1, 7]])"
            ]
          },
          "metadata": {
            "tags": []
          },
          "execution_count": 40
        }
      ]
    },
    {
      "cell_type": "code",
      "metadata": {
        "id": "PVJDjNg-AItm",
        "colab_type": "code",
        "colab": {
          "base_uri": "https://localhost:8080/",
          "height": 51
        },
        "outputId": "053241a6-966f-458d-91e7-da3b81813b7d"
      },
      "source": [
        "x2[:2,::3]"
      ],
      "execution_count": 41,
      "outputs": [
        {
          "output_type": "execute_result",
          "data": {
            "text/plain": [
              "array([[3, 4],\n",
              "       [7, 8]])"
            ]
          },
          "metadata": {
            "tags": []
          },
          "execution_count": 41
        }
      ]
    },
    {
      "cell_type": "code",
      "metadata": {
        "id": "lMsDlftYAUP0",
        "colab_type": "code",
        "colab": {}
      },
      "source": [
        "# finally whole matrix is reversed together"
      ],
      "execution_count": 0,
      "outputs": []
    },
    {
      "cell_type": "code",
      "metadata": {
        "id": "HoCKc26cAc0l",
        "colab_type": "code",
        "colab": {
          "base_uri": "https://localhost:8080/",
          "height": 68
        },
        "outputId": "77e5277d-4a1e-497b-ebb6-bb595583ba85"
      },
      "source": [
        "x2[::-1,::-1]"
      ],
      "execution_count": 43,
      "outputs": [
        {
          "output_type": "execute_result",
          "data": {
            "text/plain": [
              "array([[7, 7, 6, 1],\n",
              "       [8, 8, 6, 7],\n",
              "       [4, 2, 5, 3]])"
            ]
          },
          "metadata": {
            "tags": []
          },
          "execution_count": 43
        }
      ]
    },
    {
      "cell_type": "markdown",
      "metadata": {
        "id": "4RCExHGiAwhE",
        "colab_type": "text"
      },
      "source": [
        "Accessing rows and columns"
      ]
    },
    {
      "cell_type": "code",
      "metadata": {
        "id": "FOpOAm11Aj_Z",
        "colab_type": "code",
        "colab": {
          "base_uri": "https://localhost:8080/",
          "height": 34
        },
        "outputId": "c36b1c84-5e41-4e14-c11c-d55aeb453103"
      },
      "source": [
        "print(x2[:,0])\n",
        "# printing first column"
      ],
      "execution_count": 44,
      "outputs": [
        {
          "output_type": "stream",
          "text": [
            "[3 7 1]\n"
          ],
          "name": "stdout"
        }
      ]
    },
    {
      "cell_type": "code",
      "metadata": {
        "id": "9wpL0fIyBIyy",
        "colab_type": "code",
        "colab": {
          "base_uri": "https://localhost:8080/",
          "height": 34
        },
        "outputId": "fac4478e-1e91-4b18-cd10-941dcea03827"
      },
      "source": [
        "print(x2[0,:])\n",
        "# printing first row"
      ],
      "execution_count": 46,
      "outputs": [
        {
          "output_type": "stream",
          "text": [
            "[3 5 2 4]\n"
          ],
          "name": "stdout"
        }
      ]
    },
    {
      "cell_type": "code",
      "metadata": {
        "id": "-wi0yvVsBhW0",
        "colab_type": "code",
        "colab": {
          "base_uri": "https://localhost:8080/",
          "height": 51
        },
        "outputId": "097b75ca-6071-4549-b29b-9c7adf3d4de5"
      },
      "source": [
        "print(x2[:2,:2])\n",
        "# extract 2x2 subarray from this"
      ],
      "execution_count": 47,
      "outputs": [
        {
          "output_type": "stream",
          "text": [
            "[[3 5]\n",
            " [7 6]]\n"
          ],
          "name": "stdout"
        }
      ]
    },
    {
      "cell_type": "markdown",
      "metadata": {
        "id": "UrHIpOL_BvUM",
        "colab_type": "text"
      },
      "source": [
        "Modify the array"
      ]
    },
    {
      "cell_type": "code",
      "metadata": {
        "id": "Hrpr0yqXBr8l",
        "colab_type": "code",
        "colab": {
          "base_uri": "https://localhost:8080/",
          "height": 51
        },
        "outputId": "99ffaae4-0121-42d4-d86d-14c5f022195c"
      },
      "source": [
        "x2_sub=x2[:2,:2]\n",
        "x2_sub[0,0]=99\n",
        "x2_sub\n",
        "\n",
        "x2_sub[0,1]=97\n",
        "x2_sub"
      ],
      "execution_count": 49,
      "outputs": [
        {
          "output_type": "execute_result",
          "data": {
            "text/plain": [
              "array([[99, 97],\n",
              "       [ 7,  6]])"
            ]
          },
          "metadata": {
            "tags": []
          },
          "execution_count": 49
        }
      ]
    },
    {
      "cell_type": "markdown",
      "metadata": {
        "id": "Qr9YYzv1CQef",
        "colab_type": "text"
      },
      "source": [
        "RE-SHAPING OF ARRAYS"
      ]
    },
    {
      "cell_type": "markdown",
      "metadata": {
        "id": "AFVCmevdCugg",
        "colab_type": "text"
      },
      "source": [
        "Another useful type of operation is reshaping of arrays,The most flexible way of doing this is with the reshape() method. if i want to insert numbers 1 to 9 in 3x3 grid,then do this:"
      ]
    },
    {
      "cell_type": "code",
      "metadata": {
        "id": "TiTVS4FXCDoZ",
        "colab_type": "code",
        "colab": {
          "base_uri": "https://localhost:8080/",
          "height": 68
        },
        "outputId": "dd0744ee-ca01-44cf-d927-c1188ca99970"
      },
      "source": [
        "grid=np.arange(1,10).reshape((3,3))\n",
        "grid"
      ],
      "execution_count": 51,
      "outputs": [
        {
          "output_type": "execute_result",
          "data": {
            "text/plain": [
              "array([[1, 2, 3],\n",
              "       [4, 5, 6],\n",
              "       [7, 8, 9]])"
            ]
          },
          "metadata": {
            "tags": []
          },
          "execution_count": 51
        }
      ]
    },
    {
      "cell_type": "markdown",
      "metadata": {
        "id": "ZGmYHdvKDdmx",
        "colab_type": "text"
      },
      "source": [
        "**SOME USEFUL TIPS TO REMEMBER.....**"
      ]
    },
    {
      "cell_type": "code",
      "metadata": {
        "id": "w5069F-UDdEl",
        "colab_type": "code",
        "colab": {
          "base_uri": "https://localhost:8080/",
          "height": 51
        },
        "outputId": "6f1f059e-7c87-4cdb-e0c9-9c5d7e5ad6df"
      },
      "source": [
        "c=np.array([[1,2],[3,4]],dtype=complex)\n",
        "c"
      ],
      "execution_count": 52,
      "outputs": [
        {
          "output_type": "execute_result",
          "data": {
            "text/plain": [
              "array([[1.+0.j, 2.+0.j],\n",
              "       [3.+0.j, 4.+0.j]])"
            ]
          },
          "metadata": {
            "tags": []
          },
          "execution_count": 52
        }
      ]
    },
    {
      "cell_type": "code",
      "metadata": {
        "id": "egON6GH6EAPP",
        "colab_type": "code",
        "colab": {}
      },
      "source": [
        "# linspace function that receives as an argument that number of element that we want.Similar like arange"
      ],
      "execution_count": 0,
      "outputs": []
    },
    {
      "cell_type": "code",
      "metadata": {
        "id": "6x6HV5VYEP3O",
        "colab_type": "code",
        "colab": {
          "base_uri": "https://localhost:8080/",
          "height": 34
        },
        "outputId": "51f4f707-3b1b-475a-c198-457501f523c4"
      },
      "source": [
        "from numpy import pi\n",
        "np.linspace(0,2,9)\n"
      ],
      "execution_count": 53,
      "outputs": [
        {
          "output_type": "execute_result",
          "data": {
            "text/plain": [
              "array([0.  , 0.25, 0.5 , 0.75, 1.  , 1.25, 1.5 , 1.75, 2.  ])"
            ]
          },
          "metadata": {
            "tags": []
          },
          "execution_count": 53
        }
      ]
    }
  ]
}