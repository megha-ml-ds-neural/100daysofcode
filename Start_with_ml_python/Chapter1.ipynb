{
  "nbformat": 4,
  "nbformat_minor": 0,
  "metadata": {
    "colab": {
      "name": "Chapter1.ipynb",
      "provenance": []
    },
    "kernelspec": {
      "name": "python3",
      "display_name": "Python 3"
    }
  },
  "cells": [
    {
      "cell_type": "markdown",
      "metadata": {
        "id": "cAvjOFiaYn5p",
        "colab_type": "text"
      },
      "source": [
        "Q1. You need to create a vector"
      ]
    },
    {
      "cell_type": "code",
      "metadata": {
        "id": "gI_YtH6mYhL-",
        "colab_type": "code",
        "colab": {}
      },
      "source": [
        "import numpy as np\n",
        "vector_row=([1,2,3])\n",
        "vector_col=np.array([[1],[2],[3]])\n"
      ],
      "execution_count": 1,
      "outputs": []
    },
    {
      "cell_type": "markdown",
      "metadata": {
        "id": "jcCClmuyY-Fv",
        "colab_type": "text"
      },
      "source": [
        "Q2. You need to create a Matrix"
      ]
    },
    {
      "cell_type": "code",
      "metadata": {
        "id": "GyU_5GDAZBwl",
        "colab_type": "code",
        "colab": {
          "base_uri": "https://localhost:8080/",
          "height": 68
        },
        "outputId": "0555e717-a513-4367-adc3-84321c7afef1"
      },
      "source": [
        "import numpy as np\n",
        "matrix=np.array([[1,2],[3,4],[5,6]])\n",
        "matrix"
      ],
      "execution_count": 2,
      "outputs": [
        {
          "output_type": "execute_result",
          "data": {
            "text/plain": [
              "array([[1, 2],\n",
              "       [3, 4],\n",
              "       [5, 6]])"
            ]
          },
          "metadata": {
            "tags": []
          },
          "execution_count": 2
        }
      ]
    },
    {
      "cell_type": "markdown",
      "metadata": {
        "id": "ZjIEPuQRZLEG",
        "colab_type": "text"
      },
      "source": [
        "Q3. Given data with very few nonzero values, you want to efficiently represent it. "
      ]
    },
    {
      "cell_type": "code",
      "metadata": {
        "id": "Y-_lQqpaZrwg",
        "colab_type": "code",
        "colab": {
          "base_uri": "https://localhost:8080/",
          "height": 68
        },
        "outputId": "e27e9b4b-19f0-41c9-882b-8eedb50c7e5a"
      },
      "source": [
        "import numpy as np\n",
        "from scipy import sparse\n",
        "matrix=np.array([[0,0],[0,1],[1,3]])\n",
        "matrix\n",
        "matrix_sparse=sparse.csr_matrix(matrix)\n",
        "print(matrix_sparse)"
      ],
      "execution_count": 5,
      "outputs": [
        {
          "output_type": "stream",
          "text": [
            "  (1, 1)\t1\n",
            "  (2, 0)\t1\n",
            "  (2, 1)\t3\n"
          ],
          "name": "stdout"
        }
      ]
    },
    {
      "cell_type": "markdown",
      "metadata": {
        "id": "Y-Qw6rvActcP",
        "colab_type": "text"
      },
      "source": [
        "Q4.You need to select one or more elements in a vector or matrix.\n"
      ]
    },
    {
      "cell_type": "code",
      "metadata": {
        "id": "no8BQoR9Z2KM",
        "colab_type": "code",
        "colab": {
          "base_uri": "https://localhost:8080/",
          "height": 34
        },
        "outputId": "b600820c-27b5-43db-f08c-33fdb3cf537b"
      },
      "source": [
        "import numpy as np\n",
        "vector=([1,2,3])\n",
        "matrix=np.array([[1,2,3],[4,5,6],[7,8,9]])\n",
        "matrix[1,1]\n",
        "vector[2]"
      ],
      "execution_count": 11,
      "outputs": [
        {
          "output_type": "execute_result",
          "data": {
            "text/plain": [
              "3"
            ]
          },
          "metadata": {
            "tags": []
          },
          "execution_count": 11
        }
      ]
    },
    {
      "cell_type": "markdown",
      "metadata": {
        "id": "LyVxCSBsZT6B",
        "colab_type": "text"
      },
      "source": [
        "Q5.Slicing"
      ]
    },
    {
      "cell_type": "code",
      "metadata": {
        "id": "a7Jya6WFdujd",
        "colab_type": "code",
        "colab": {
          "base_uri": "https://localhost:8080/",
          "height": 34
        },
        "outputId": "fe8a6668-af3a-4e40-96a9-c79da5960b5a"
      },
      "source": [
        "vector[:]"
      ],
      "execution_count": 12,
      "outputs": [
        {
          "output_type": "execute_result",
          "data": {
            "text/plain": [
              "[1, 2, 3]"
            ]
          },
          "metadata": {
            "tags": []
          },
          "execution_count": 12
        }
      ]
    },
    {
      "cell_type": "code",
      "metadata": {
        "id": "u16FzVYtdxIG",
        "colab_type": "code",
        "colab": {
          "base_uri": "https://localhost:8080/",
          "height": 34
        },
        "outputId": "dc8cfe42-4913-48b7-b54e-cf9f4ad6ff40"
      },
      "source": [
        "vector[1:]"
      ],
      "execution_count": 13,
      "outputs": [
        {
          "output_type": "execute_result",
          "data": {
            "text/plain": [
              "[2, 3]"
            ]
          },
          "metadata": {
            "tags": []
          },
          "execution_count": 13
        }
      ]
    },
    {
      "cell_type": "code",
      "metadata": {
        "id": "6n6tPUJWd1OM",
        "colab_type": "code",
        "colab": {
          "base_uri": "https://localhost:8080/",
          "height": 34
        },
        "outputId": "e7203555-b073-4135-9f48-32aade7976f4"
      },
      "source": [
        "vector[:1]"
      ],
      "execution_count": 14,
      "outputs": [
        {
          "output_type": "execute_result",
          "data": {
            "text/plain": [
              "[1]"
            ]
          },
          "metadata": {
            "tags": []
          },
          "execution_count": 14
        }
      ]
    },
    {
      "cell_type": "code",
      "metadata": {
        "id": "ceJfWxuFd5a5",
        "colab_type": "code",
        "colab": {
          "base_uri": "https://localhost:8080/",
          "height": 34
        },
        "outputId": "88ad233d-a4c1-485e-f562-40800c4c9762"
      },
      "source": [
        "vector[-1:]"
      ],
      "execution_count": 15,
      "outputs": [
        {
          "output_type": "execute_result",
          "data": {
            "text/plain": [
              "[3]"
            ]
          },
          "metadata": {
            "tags": []
          },
          "execution_count": 15
        }
      ]
    },
    {
      "cell_type": "code",
      "metadata": {
        "id": "VilgZY6Ud-Vk",
        "colab_type": "code",
        "colab": {
          "base_uri": "https://localhost:8080/",
          "height": 34
        },
        "outputId": "bc8d6fc3-074a-4440-b108-f6633adfa16e"
      },
      "source": [
        "vector[:-1]"
      ],
      "execution_count": 16,
      "outputs": [
        {
          "output_type": "execute_result",
          "data": {
            "text/plain": [
              "[1, 2]"
            ]
          },
          "metadata": {
            "tags": []
          },
          "execution_count": 16
        }
      ]
    },
    {
      "cell_type": "code",
      "metadata": {
        "id": "AavfboE6eNTI",
        "colab_type": "code",
        "colab": {
          "base_uri": "https://localhost:8080/",
          "height": 34
        },
        "outputId": "f0850c53-dc45-4998-ebb5-d50a7fc471c4"
      },
      "source": [
        "matrix[:1,:]\n",
        "# selects first row and all cols"
      ],
      "execution_count": 18,
      "outputs": [
        {
          "output_type": "execute_result",
          "data": {
            "text/plain": [
              "array([[1, 2, 3]])"
            ]
          },
          "metadata": {
            "tags": []
          },
          "execution_count": 18
        }
      ]
    },
    {
      "cell_type": "code",
      "metadata": {
        "id": "WBm5iu_yeXiR",
        "colab_type": "code",
        "colab": {
          "base_uri": "https://localhost:8080/",
          "height": 34
        },
        "outputId": "a758c2ee-a81f-40b0-9e39-1c88a555678e"
      },
      "source": [
        "matrix[1:2,:]"
      ],
      "execution_count": 23,
      "outputs": [
        {
          "output_type": "execute_result",
          "data": {
            "text/plain": [
              "array([[4, 5, 6]])"
            ]
          },
          "metadata": {
            "tags": []
          },
          "execution_count": 23
        }
      ]
    },
    {
      "cell_type": "code",
      "metadata": {
        "id": "FmQjBM_fec_q",
        "colab_type": "code",
        "colab": {
          "base_uri": "https://localhost:8080/",
          "height": 68
        },
        "outputId": "66208b34-faa5-4cca-f27e-59c372a80383"
      },
      "source": [
        "matrix[:,1:2]\n",
        "# select all rows and the second columns"
      ],
      "execution_count": 22,
      "outputs": [
        {
          "output_type": "execute_result",
          "data": {
            "text/plain": [
              "array([[2],\n",
              "       [5],\n",
              "       [8]])"
            ]
          },
          "metadata": {
            "tags": []
          },
          "execution_count": 22
        }
      ]
    },
    {
      "cell_type": "markdown",
      "metadata": {
        "id": "QeHTZVYVet4w",
        "colab_type": "text"
      },
      "source": [
        "Q6.You want to describe the shape, size, and dimensions of the matrix"
      ]
    },
    {
      "cell_type": "code",
      "metadata": {
        "id": "aC_wdIsWeszn",
        "colab_type": "code",
        "colab": {
          "base_uri": "https://localhost:8080/",
          "height": 34
        },
        "outputId": "7ff3a016-4cde-485b-8e9a-85b9ab943986"
      },
      "source": [
        "import numpy as np\n",
        "matrix=np.array([[1,2,3,4],[5,6,7,8],[9,1,2,0]])\n",
        "matrix.shape"
      ],
      "execution_count": 27,
      "outputs": [
        {
          "output_type": "execute_result",
          "data": {
            "text/plain": [
              "(3, 4)"
            ]
          },
          "metadata": {
            "tags": []
          },
          "execution_count": 27
        }
      ]
    },
    {
      "cell_type": "code",
      "metadata": {
        "id": "S_-AvAQRgwIR",
        "colab_type": "code",
        "colab": {
          "base_uri": "https://localhost:8080/",
          "height": 34
        },
        "outputId": "2c651ea3-9600-40f7-ba1f-fbd6f595f778"
      },
      "source": [
        "matrix.size"
      ],
      "execution_count": 28,
      "outputs": [
        {
          "output_type": "execute_result",
          "data": {
            "text/plain": [
              "12"
            ]
          },
          "metadata": {
            "tags": []
          },
          "execution_count": 28
        }
      ]
    },
    {
      "cell_type": "code",
      "metadata": {
        "id": "hf7dmIBUhQnp",
        "colab_type": "code",
        "colab": {
          "base_uri": "https://localhost:8080/",
          "height": 34
        },
        "outputId": "dbc7050e-ea0c-4c39-fac8-f3b4d3490b24"
      },
      "source": [
        "matrix.ndim"
      ],
      "execution_count": 29,
      "outputs": [
        {
          "output_type": "execute_result",
          "data": {
            "text/plain": [
              "2"
            ]
          },
          "metadata": {
            "tags": []
          },
          "execution_count": 29
        }
      ]
    },
    {
      "cell_type": "code",
      "metadata": {
        "id": "h41392Hvic0X",
        "colab_type": "code",
        "colab": {
          "base_uri": "https://localhost:8080/",
          "height": 34
        },
        "outputId": "c2265414-17f2-4238-d8e0-ce8b6b891e1a"
      },
      "source": [
        "# Use of lambda function\n",
        "x=lambda a:a+9\n",
        "print(x(5))"
      ],
      "execution_count": 31,
      "outputs": [
        {
          "output_type": "stream",
          "text": [
            "14\n"
          ],
          "name": "stdout"
        }
      ]
    },
    {
      "cell_type": "markdown",
      "metadata": {
        "id": "aHFcp2D9hmeb",
        "colab_type": "text"
      },
      "source": [
        "Q7.You want to apply some function to multiple elements in an array.\n"
      ]
    },
    {
      "cell_type": "code",
      "metadata": {
        "id": "21IOzVsdhqOn",
        "colab_type": "code",
        "colab": {
          "base_uri": "https://localhost:8080/",
          "height": 68
        },
        "outputId": "a14b12ab-44fd-4ac3-b41a-5d3126cf00d8"
      },
      "source": [
        "import numpy as np\n",
        "matrix=np.array([[1,2,3],[4,5,6],[7,8,9]])\n",
        "add_100=lambda i:i+100\n",
        "vectorized=np.vectorize(add_100)\n",
        "vectorized(matrix)"
      ],
      "execution_count": 30,
      "outputs": [
        {
          "output_type": "execute_result",
          "data": {
            "text/plain": [
              "array([[101, 102, 103],\n",
              "       [104, 105, 106],\n",
              "       [107, 108, 109]])"
            ]
          },
          "metadata": {
            "tags": []
          },
          "execution_count": 30
        }
      ]
    },
    {
      "cell_type": "markdown",
      "metadata": {
        "id": "hOB1Eqi9ixYK",
        "colab_type": "text"
      },
      "source": [
        "NumPy’s vectorize class converts a function into a function that can apply to all elements in an array or slice of an array. It’s worth noting that vectorize is essentially a for loop over the elements and does not increase performance. Furthermore, NumPy arrays allow us to perform operations between arrays even if their dimensions are not the same (a process called broadcasting). For example, we can create a much simpler version of our solution using broadcasting:\n"
      ]
    },
    {
      "cell_type": "code",
      "metadata": {
        "id": "DzhlcAtFizxI",
        "colab_type": "code",
        "colab": {
          "base_uri": "https://localhost:8080/",
          "height": 68
        },
        "outputId": "bd03b120-353d-4b6d-d09f-49ad8da5f828"
      },
      "source": [
        "matrix+100"
      ],
      "execution_count": 32,
      "outputs": [
        {
          "output_type": "execute_result",
          "data": {
            "text/plain": [
              "array([[101, 102, 103],\n",
              "       [104, 105, 106],\n",
              "       [107, 108, 109]])"
            ]
          },
          "metadata": {
            "tags": []
          },
          "execution_count": 32
        }
      ]
    },
    {
      "cell_type": "markdown",
      "metadata": {
        "id": "xLf2cjOii5Xe",
        "colab_type": "text"
      },
      "source": [
        "Q8.You need to find the maximum or minimum value in an array. "
      ]
    },
    {
      "cell_type": "code",
      "metadata": {
        "id": "t9jjdIsbi4s-",
        "colab_type": "code",
        "colab": {
          "base_uri": "https://localhost:8080/",
          "height": 34
        },
        "outputId": "c63fa741-dccf-442c-a278-0fd269b28448"
      },
      "source": [
        "import numpy as np\n",
        "matrix=([[1,2],[3,4],[5,6]])\n",
        "np.max(matrix)"
      ],
      "execution_count": 33,
      "outputs": [
        {
          "output_type": "execute_result",
          "data": {
            "text/plain": [
              "6"
            ]
          },
          "metadata": {
            "tags": []
          },
          "execution_count": 33
        }
      ]
    },
    {
      "cell_type": "code",
      "metadata": {
        "id": "BKO4seaYjFni",
        "colab_type": "code",
        "colab": {
          "base_uri": "https://localhost:8080/",
          "height": 34
        },
        "outputId": "89e3af91-4274-447d-c943-2a02f123fceb"
      },
      "source": [
        "np.min(matrix)"
      ],
      "execution_count": 34,
      "outputs": [
        {
          "output_type": "execute_result",
          "data": {
            "text/plain": [
              "1"
            ]
          },
          "metadata": {
            "tags": []
          },
          "execution_count": 34
        }
      ]
    },
    {
      "cell_type": "code",
      "metadata": {
        "id": "BHnlG-jijKQb",
        "colab_type": "code",
        "colab": {
          "base_uri": "https://localhost:8080/",
          "height": 34
        },
        "outputId": "0e6e5ffb-86f7-49df-af8d-9198a3a2cbd3"
      },
      "source": [
        "np.max(matrix,axis=0)"
      ],
      "execution_count": 36,
      "outputs": [
        {
          "output_type": "execute_result",
          "data": {
            "text/plain": [
              "array([5, 6])"
            ]
          },
          "metadata": {
            "tags": []
          },
          "execution_count": 36
        }
      ]
    },
    {
      "cell_type": "markdown",
      "metadata": {
        "id": "R51_lXVojeTt",
        "colab_type": "text"
      },
      "source": [
        "Q9.You want to calculate some descriptive statistics about an array"
      ]
    },
    {
      "cell_type": "code",
      "metadata": {
        "id": "RRlhs_u8jSSC",
        "colab_type": "code",
        "colab": {
          "base_uri": "https://localhost:8080/",
          "height": 34
        },
        "outputId": "ef4994d5-7257-4fcb-8c75-8af8de4aeb45"
      },
      "source": [
        "import numpy as np\n",
        "matrix=np.array([[1,2,3],[4,5,6],[7,8,9]])\n",
        "np.mean(matrix)"
      ],
      "execution_count": 40,
      "outputs": [
        {
          "output_type": "execute_result",
          "data": {
            "text/plain": [
              "5.0"
            ]
          },
          "metadata": {
            "tags": []
          },
          "execution_count": 40
        }
      ]
    },
    {
      "cell_type": "code",
      "metadata": {
        "id": "2NlCWaa_jdSe",
        "colab_type": "code",
        "colab": {
          "base_uri": "https://localhost:8080/",
          "height": 34
        },
        "outputId": "4c405014-48c9-4528-d59f-6ada6f278e6c"
      },
      "source": [
        "np.var(matrix)"
      ],
      "execution_count": 39,
      "outputs": [
        {
          "output_type": "execute_result",
          "data": {
            "text/plain": [
              "2.9166666666666665"
            ]
          },
          "metadata": {
            "tags": []
          },
          "execution_count": 39
        }
      ]
    },
    {
      "cell_type": "code",
      "metadata": {
        "id": "pHYEP8c6kFp7",
        "colab_type": "code",
        "colab": {}
      },
      "source": [
        "np.std(matrix)"
      ],
      "execution_count": null,
      "outputs": []
    },
    {
      "cell_type": "markdown",
      "metadata": {
        "id": "60um-0WVkJe1",
        "colab_type": "text"
      },
      "source": [
        "Q10.You want to change the shape (number of rows and columns) of an array without changing the element values. "
      ]
    },
    {
      "cell_type": "code",
      "metadata": {
        "id": "6UGoI3_GkNH0",
        "colab_type": "code",
        "colab": {
          "base_uri": "https://localhost:8080/",
          "height": 68
        },
        "outputId": "eb72855d-64cc-4c9c-e559-122c8dbb9c5c"
      },
      "source": [
        "import numpy as np\n",
        "matrix=np.array([[1,2,3],[4,5,6],[7,8,9],[10,11,12]])\n",
        "matrix.reshape(3,4)"
      ],
      "execution_count": 45,
      "outputs": [
        {
          "output_type": "execute_result",
          "data": {
            "text/plain": [
              "array([[ 1,  2,  3,  4],\n",
              "       [ 5,  6,  7,  8],\n",
              "       [ 9, 10, 11, 12]])"
            ]
          },
          "metadata": {
            "tags": []
          },
          "execution_count": 45
        }
      ]
    },
    {
      "cell_type": "code",
      "metadata": {
        "id": "D9KzHrxlk50U",
        "colab_type": "code",
        "colab": {
          "base_uri": "https://localhost:8080/",
          "height": 34
        },
        "outputId": "f9f74829-c7a8-43c5-8466-359ee4fb162d"
      },
      "source": [
        "matrix.size"
      ],
      "execution_count": 44,
      "outputs": [
        {
          "output_type": "execute_result",
          "data": {
            "text/plain": [
              "12"
            ]
          },
          "metadata": {
            "tags": []
          },
          "execution_count": 44
        }
      ]
    },
    {
      "cell_type": "code",
      "metadata": {
        "id": "u809UCBbk9gS",
        "colab_type": "code",
        "colab": {
          "base_uri": "https://localhost:8080/",
          "height": 51
        },
        "outputId": "5e3c0def-07f8-4855-9fa1-57bd6ebdeb14"
      },
      "source": [
        "matrix.reshape(2,-1)"
      ],
      "execution_count": 49,
      "outputs": [
        {
          "output_type": "execute_result",
          "data": {
            "text/plain": [
              "array([[ 1,  2,  3,  4,  5,  6],\n",
              "       [ 7,  8,  9, 10, 11, 12]])"
            ]
          },
          "metadata": {
            "tags": []
          },
          "execution_count": 49
        }
      ]
    },
    {
      "cell_type": "code",
      "metadata": {
        "id": "IFG4kIv9k9Wy",
        "colab_type": "code",
        "colab": {
          "base_uri": "https://localhost:8080/",
          "height": 34
        },
        "outputId": "af1116ba-d54a-47e6-ef29-3a5e5fd9e05c"
      },
      "source": [
        "matrix.reshape(12)"
      ],
      "execution_count": 47,
      "outputs": [
        {
          "output_type": "execute_result",
          "data": {
            "text/plain": [
              "array([ 1,  2,  3,  4,  5,  6,  7,  8,  9, 10, 11, 12])"
            ]
          },
          "metadata": {
            "tags": []
          },
          "execution_count": 47
        }
      ]
    },
    {
      "cell_type": "markdown",
      "metadata": {
        "id": "FwkTe-whlfK5",
        "colab_type": "text"
      },
      "source": [
        "Q11.You need to transpose a vector or matrix. "
      ]
    },
    {
      "cell_type": "code",
      "metadata": {
        "id": "3cjZfAaxlr4m",
        "colab_type": "code",
        "colab": {
          "base_uri": "https://localhost:8080/",
          "height": 68
        },
        "outputId": "094e34b4-1975-4e63-b3d1-013974b7cfb1"
      },
      "source": [
        "import numpy as np\n",
        "matrix=np.array([[1,2,3],[4,5,6],[7,8,9]])\n",
        "matrix"
      ],
      "execution_count": 51,
      "outputs": [
        {
          "output_type": "execute_result",
          "data": {
            "text/plain": [
              "array([[1, 2, 3],\n",
              "       [4, 5, 6],\n",
              "       [7, 8, 9]])"
            ]
          },
          "metadata": {
            "tags": []
          },
          "execution_count": 51
        }
      ]
    },
    {
      "cell_type": "code",
      "metadata": {
        "id": "RjP6sF_zmFTK",
        "colab_type": "code",
        "colab": {
          "base_uri": "https://localhost:8080/",
          "height": 68
        },
        "outputId": "ba436830-bc7d-425b-81ea-75929d899c12"
      },
      "source": [
        "matrix.T"
      ],
      "execution_count": 52,
      "outputs": [
        {
          "output_type": "execute_result",
          "data": {
            "text/plain": [
              "array([[1, 4, 7],\n",
              "       [2, 5, 8],\n",
              "       [3, 6, 9]])"
            ]
          },
          "metadata": {
            "tags": []
          },
          "execution_count": 52
        }
      ]
    },
    {
      "cell_type": "markdown",
      "metadata": {
        "id": "r7uv-dMxmIlW",
        "colab_type": "text"
      },
      "source": [
        "Q11.You need to transform a matrix into a one-dimensional array"
      ]
    },
    {
      "cell_type": "code",
      "metadata": {
        "id": "HPjke33nmMqH",
        "colab_type": "code",
        "colab": {
          "base_uri": "https://localhost:8080/",
          "height": 34
        },
        "outputId": "dafeffcb-160b-4c07-a7ac-6eac90ed5e53"
      },
      "source": [
        "matrix.flatten()"
      ],
      "execution_count": 59,
      "outputs": [
        {
          "output_type": "execute_result",
          "data": {
            "text/plain": [
              "array([1, 2, 3, 4, 5, 6, 7, 8, 9])"
            ]
          },
          "metadata": {
            "tags": []
          },
          "execution_count": 59
        }
      ]
    },
    {
      "cell_type": "markdown",
      "metadata": {
        "id": "5HecX1bBp5fZ",
        "colab_type": "text"
      },
      "source": [
        "alternative,use of reshape"
      ]
    },
    {
      "cell_type": "code",
      "metadata": {
        "id": "7V_cymbtp2Ya",
        "colab_type": "code",
        "colab": {
          "base_uri": "https://localhost:8080/",
          "height": 34
        },
        "outputId": "b8448cd0-d435-4ac7-9d43-8dd0473b87ae"
      },
      "source": [
        "matrix.reshape(1,-1)"
      ],
      "execution_count": 60,
      "outputs": [
        {
          "output_type": "execute_result",
          "data": {
            "text/plain": [
              "array([[1, 2, 3, 4, 5, 6, 7, 8, 9]])"
            ]
          },
          "metadata": {
            "tags": []
          },
          "execution_count": 60
        }
      ]
    },
    {
      "cell_type": "markdown",
      "metadata": {
        "id": "afT_qnkAqAhc",
        "colab_type": "text"
      },
      "source": [
        "Q12.You need to know the rank of a matrix. "
      ]
    },
    {
      "cell_type": "code",
      "metadata": {
        "id": "f_H5oDwdp_sV",
        "colab_type": "code",
        "colab": {
          "base_uri": "https://localhost:8080/",
          "height": 34
        },
        "outputId": "0a2b5519-400b-493d-e6ae-db907b780ca9"
      },
      "source": [
        "import numpy as np\n",
        "matrix=np.array([[1,2,3],[4,5,6],[7,8,9],[11,28,90]])\n",
        "np.linalg.matrix_rank(matrix)\n"
      ],
      "execution_count": 61,
      "outputs": [
        {
          "output_type": "execute_result",
          "data": {
            "text/plain": [
              "3"
            ]
          },
          "metadata": {
            "tags": []
          },
          "execution_count": 61
        }
      ]
    },
    {
      "cell_type": "markdown",
      "metadata": {
        "id": "wxhfvkJxkxq2",
        "colab_type": "text"
      },
      "source": [
        "Q13.You need to know the determinant of a matrix"
      ]
    },
    {
      "cell_type": "code",
      "metadata": {
        "id": "dwhI9oNprEEe",
        "colab_type": "code",
        "colab": {
          "base_uri": "https://localhost:8080/",
          "height": 34
        },
        "outputId": "56d7b07f-b111-4019-fa3d-fb074c146d25"
      },
      "source": [
        "import numpy as np\n",
        "matrix=([[3,8],[4,6]])\n",
        "np.linalg.det(matrix)\n",
        "# 3x6-4x8=18-32=-14"
      ],
      "execution_count": 66,
      "outputs": [
        {
          "output_type": "execute_result",
          "data": {
            "text/plain": [
              "-14.000000000000004"
            ]
          },
          "metadata": {
            "tags": []
          },
          "execution_count": 66
        }
      ]
    },
    {
      "cell_type": "markdown",
      "metadata": {
        "id": "vSKDZkk2rt-l",
        "colab_type": "text"
      },
      "source": [
        "Q14.You need to get the diagonal elements of a matrix. "
      ]
    },
    {
      "cell_type": "code",
      "metadata": {
        "id": "JLKPKACprx6s",
        "colab_type": "code",
        "colab": {
          "base_uri": "https://localhost:8080/",
          "height": 34
        },
        "outputId": "4ff3fb96-410d-40da-ab33-f1bf9f830ad8"
      },
      "source": [
        "matrix = np.array([[1, 2, 3],[2, 4, 6],[3, 8, 9]])\n",
        "matrix.diagonal()\n"
      ],
      "execution_count": 70,
      "outputs": [
        {
          "output_type": "execute_result",
          "data": {
            "text/plain": [
              "array([1, 4, 9])"
            ]
          },
          "metadata": {
            "tags": []
          },
          "execution_count": 70
        }
      ]
    },
    {
      "cell_type": "code",
      "metadata": {
        "id": "pF2k6BsRsj8Q",
        "colab_type": "code",
        "colab": {
          "base_uri": "https://localhost:8080/",
          "height": 34
        },
        "outputId": "cdbbe2c9-f43f-41d8-e650-56a5cb28b9f3"
      },
      "source": [
        "np.fliplr(matrix).diagonal()\n",
        "# horizontal flip"
      ],
      "execution_count": 72,
      "outputs": [
        {
          "output_type": "execute_result",
          "data": {
            "text/plain": [
              "array([3, 4, 3])"
            ]
          },
          "metadata": {
            "tags": []
          },
          "execution_count": 72
        }
      ]
    },
    {
      "cell_type": "markdown",
      "metadata": {
        "id": "vSp-wjods7zF",
        "colab_type": "text"
      },
      "source": [
        "Q15.You need to calculate the trace of a matrix. "
      ]
    },
    {
      "cell_type": "code",
      "metadata": {
        "id": "yi6bJWAms6LX",
        "colab_type": "code",
        "colab": {
          "base_uri": "https://localhost:8080/",
          "height": 34
        },
        "outputId": "e0fa4d83-a8b7-4c2f-a19c-a6e7d12eaa12"
      },
      "source": [
        "matrix.trace()\n",
        "# sum of diagnols elements"
      ],
      "execution_count": 73,
      "outputs": [
        {
          "output_type": "execute_result",
          "data": {
            "text/plain": [
              "14"
            ]
          },
          "metadata": {
            "tags": []
          },
          "execution_count": 73
        }
      ]
    },
    {
      "cell_type": "code",
      "metadata": {
        "id": "3PkSJuuutmp0",
        "colab_type": "code",
        "colab": {
          "base_uri": "https://localhost:8080/",
          "height": 34
        },
        "outputId": "f78dee18-295f-47bd-da1e-7a4b9e5f94d8"
      },
      "source": [
        "sum(matrix.diagonal())"
      ],
      "execution_count": 74,
      "outputs": [
        {
          "output_type": "execute_result",
          "data": {
            "text/plain": [
              "14"
            ]
          },
          "metadata": {
            "tags": []
          },
          "execution_count": 74
        }
      ]
    },
    {
      "cell_type": "markdown",
      "metadata": {
        "id": "0zi3Q7dDttju",
        "colab_type": "text"
      },
      "source": [
        "Q16.You need to find the eigenvalues and eigenvectors of a square matrix"
      ]
    },
    {
      "cell_type": "code",
      "metadata": {
        "id": "HdpY5zYPtzdF",
        "colab_type": "code",
        "colab": {
          "base_uri": "https://localhost:8080/",
          "height": 34
        },
        "outputId": "155a6b04-85a9-42a1-d370-53fcbee17b18"
      },
      "source": [
        "import numpy as np\n",
        "matrix=np.array([[1,-1,3],[1,1,6],[3,8,9]])\n",
        "eigenvalues,eigenvectors=np.linalg.eig(matrix)\n",
        "eigenvalues"
      ],
      "execution_count": 76,
      "outputs": [
        {
          "output_type": "execute_result",
          "data": {
            "text/plain": [
              "array([13.55075847,  0.74003145, -3.29078992])"
            ]
          },
          "metadata": {
            "tags": []
          },
          "execution_count": 76
        }
      ]
    },
    {
      "cell_type": "code",
      "metadata": {
        "id": "rV-bdjEeu2Cg",
        "colab_type": "code",
        "colab": {
          "base_uri": "https://localhost:8080/",
          "height": 68
        },
        "outputId": "5df704a2-34b4-46b1-ab39-5e92185ab61f"
      },
      "source": [
        "eigenvectors"
      ],
      "execution_count": 77,
      "outputs": [
        {
          "output_type": "execute_result",
          "data": {
            "text/plain": [
              "array([[-0.17622017, -0.96677403, -0.53373322],\n",
              "       [-0.435951  ,  0.2053623 , -0.64324848],\n",
              "       [-0.88254925,  0.15223105,  0.54896288]])"
            ]
          },
          "metadata": {
            "tags": []
          },
          "execution_count": 77
        }
      ]
    },
    {
      "cell_type": "markdown",
      "metadata": {
        "id": "zn1OmY_rvOdK",
        "colab_type": "text"
      },
      "source": [
        "Q17.You need to calculate the dot product of two vectors. "
      ]
    },
    {
      "cell_type": "code",
      "metadata": {
        "id": "PwaNJRaQvRe1",
        "colab_type": "code",
        "colab": {
          "base_uri": "https://localhost:8080/",
          "height": 34
        },
        "outputId": "a9b3c614-e913-4042-fdc6-4e153f57236e"
      },
      "source": [
        "import numpy as np\n",
        "vector_a=np.array([1,2,3])\n",
        "vector_b=np.array([4,5,6])\n",
        "np.dot(vector_a,vector_b)"
      ],
      "execution_count": 78,
      "outputs": [
        {
          "output_type": "execute_result",
          "data": {
            "text/plain": [
              "32"
            ]
          },
          "metadata": {
            "tags": []
          },
          "execution_count": 78
        }
      ]
    },
    {
      "cell_type": "markdown",
      "metadata": {
        "id": "ampKdU7kwBcc",
        "colab_type": "text"
      },
      "source": [
        "Q18.You want to calculate the inverse of a square matrix. "
      ]
    },
    {
      "cell_type": "code",
      "metadata": {
        "id": "WyGwQjX5wBAT",
        "colab_type": "code",
        "colab": {
          "base_uri": "https://localhost:8080/",
          "height": 68
        },
        "outputId": "bcdfb2bc-0ce8-4c08-9ff3-7ed92797a218"
      },
      "source": [
        "np.linalg.inv(matrix)"
      ],
      "execution_count": 79,
      "outputs": [
        {
          "output_type": "execute_result",
          "data": {
            "text/plain": [
              "array([[ 1.18181818, -1.        ,  0.27272727],\n",
              "       [-0.27272727, -0.        ,  0.09090909],\n",
              "       [-0.15151515,  0.33333333, -0.06060606]])"
            ]
          },
          "metadata": {
            "tags": []
          },
          "execution_count": 79
        }
      ]
    },
    {
      "cell_type": "markdown",
      "metadata": {
        "id": "IFTZdqtjwved",
        "colab_type": "text"
      },
      "source": [
        "Q19.You want to generate pseudorandom values"
      ]
    },
    {
      "cell_type": "code",
      "metadata": {
        "id": "IrdaW_dNwy5j",
        "colab_type": "code",
        "colab": {
          "base_uri": "https://localhost:8080/",
          "height": 34
        },
        "outputId": "8242309e-89e9-45b0-ce34-3c732b3171e0"
      },
      "source": [
        "np.random.seed(0)\n",
        "np.random.random(4)"
      ],
      "execution_count": 84,
      "outputs": [
        {
          "output_type": "execute_result",
          "data": {
            "text/plain": [
              "array([0.5488135 , 0.71518937, 0.60276338, 0.54488318])"
            ]
          },
          "metadata": {
            "tags": []
          },
          "execution_count": 84
        }
      ]
    },
    {
      "cell_type": "code",
      "metadata": {
        "id": "8VhWfNXhw7j1",
        "colab_type": "code",
        "colab": {
          "base_uri": "https://localhost:8080/",
          "height": 34
        },
        "outputId": "f85d3e9e-ef5b-416b-de2b-13c8cd08808b"
      },
      "source": [
        "np.random.randint(0,11,3)"
      ],
      "execution_count": 83,
      "outputs": [
        {
          "output_type": "execute_result",
          "data": {
            "text/plain": [
              "array([2, 4, 7])"
            ]
          },
          "metadata": {
            "tags": []
          },
          "execution_count": 83
        }
      ]
    },
    {
      "cell_type": "code",
      "metadata": {
        "id": "mCAlBJqQw_RB",
        "colab_type": "code",
        "colab": {}
      },
      "source": [
        ""
      ],
      "execution_count": null,
      "outputs": []
    },
    {
      "cell_type": "markdown",
      "metadata": {
        "id": "qnbaSFYZvE-b",
        "colab_type": "text"
      },
      "source": [
        ""
      ]
    }
  ]
}