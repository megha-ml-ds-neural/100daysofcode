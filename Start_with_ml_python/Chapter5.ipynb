{
  "nbformat": 4,
  "nbformat_minor": 0,
  "metadata": {
    "colab": {
      "name": "Chapter5.ipynb",
      "provenance": []
    },
    "kernelspec": {
      "name": "python3",
      "display_name": "Python 3"
    }
  },
  "cells": [
    {
      "cell_type": "markdown",
      "metadata": {
        "id": "7jtjq2GKcScF",
        "colab_type": "text"
      },
      "source": [
        "Q1.Deleting Observations with Missing values"
      ]
    },
    {
      "cell_type": "code",
      "metadata": {
        "id": "dTD0AVq5b95Z",
        "colab_type": "code",
        "colab": {
          "base_uri": "https://localhost:8080/",
          "height": 102
        },
        "outputId": "3a3ed4d5-718a-4d96-f6cc-8d5dcb1561c7"
      },
      "source": [
        "import numpy as np\n",
        "features=np.array([[1.1,11.1],[2.2,22.2],[3.3,33.3],[4.4,44.4],[np.nan,55]])\n",
        "features"
      ],
      "execution_count": 9,
      "outputs": [
        {
          "output_type": "execute_result",
          "data": {
            "text/plain": [
              "array([[ 1.1, 11.1],\n",
              "       [ 2.2, 22.2],\n",
              "       [ 3.3, 33.3],\n",
              "       [ 4.4, 44.4],\n",
              "       [ nan, 55. ]])"
            ]
          },
          "metadata": {
            "tags": []
          },
          "execution_count": 9
        }
      ]
    },
    {
      "cell_type": "code",
      "metadata": {
        "id": "BNZ6LBX-c2G6",
        "colab_type": "code",
        "colab": {
          "base_uri": "https://localhost:8080/",
          "height": 173
        },
        "outputId": "5497db14-91ee-444d-abbd-780ce34920d1"
      },
      "source": [
        "import pandas as pd\n",
        "dataframe = pd.DataFrame(features, columns=[\"feature_1\", \"feature_2\"])\n",
        "dataframe.dropna()\n"
      ],
      "execution_count": 10,
      "outputs": [
        {
          "output_type": "execute_result",
          "data": {
            "text/html": [
              "<div>\n",
              "<style scoped>\n",
              "    .dataframe tbody tr th:only-of-type {\n",
              "        vertical-align: middle;\n",
              "    }\n",
              "\n",
              "    .dataframe tbody tr th {\n",
              "        vertical-align: top;\n",
              "    }\n",
              "\n",
              "    .dataframe thead th {\n",
              "        text-align: right;\n",
              "    }\n",
              "</style>\n",
              "<table border=\"1\" class=\"dataframe\">\n",
              "  <thead>\n",
              "    <tr style=\"text-align: right;\">\n",
              "      <th></th>\n",
              "      <th>feature_1</th>\n",
              "      <th>feature_2</th>\n",
              "    </tr>\n",
              "  </thead>\n",
              "  <tbody>\n",
              "    <tr>\n",
              "      <th>0</th>\n",
              "      <td>1.1</td>\n",
              "      <td>11.1</td>\n",
              "    </tr>\n",
              "    <tr>\n",
              "      <th>1</th>\n",
              "      <td>2.2</td>\n",
              "      <td>22.2</td>\n",
              "    </tr>\n",
              "    <tr>\n",
              "      <th>2</th>\n",
              "      <td>3.3</td>\n",
              "      <td>33.3</td>\n",
              "    </tr>\n",
              "    <tr>\n",
              "      <th>3</th>\n",
              "      <td>4.4</td>\n",
              "      <td>44.4</td>\n",
              "    </tr>\n",
              "  </tbody>\n",
              "</table>\n",
              "</div>"
            ],
            "text/plain": [
              "   feature_1  feature_2\n",
              "0        1.1       11.1\n",
              "1        2.2       22.2\n",
              "2        3.3       33.3\n",
              "3        4.4       44.4"
            ]
          },
          "metadata": {
            "tags": []
          },
          "execution_count": 10
        }
      ]
    },
    {
      "cell_type": "markdown",
      "metadata": {
        "id": "9i0S84pcedhQ",
        "colab_type": "text"
      },
      "source": [
        "Q2.Imputing Misiing values"
      ]
    },
    {
      "cell_type": "markdown",
      "metadata": {
        "id": "Tc_LW4H7egVB",
        "colab_type": "text"
      },
      "source": [
        "We have two methods :\n",
        "1.KNN\n",
        "2.SCIKIT\n",
        "\n",
        "KNN IS MORE BENEFICIAL WHEN WE HAVE NOT MILLIONS OF DATA.I GIVES ALMOST ACCURATE RESULT BUT SCIKIT LEARN GET USEFUL IN MIILIONS OF DATA BUT GIVE WORSE RESULTS THAN KNN"
      ]
    },
    {
      "cell_type": "code",
      "metadata": {
        "id": "gNIpZshCgQg3",
        "colab_type": "code",
        "colab": {}
      },
      "source": [
        "import numpy as np\n",
        "from fancyimpute import KNN\n",
        "from sklearn.preprocessing import StandardScaler\n",
        "from sklearn.datasets import make_blobs"
      ],
      "execution_count": 14,
      "outputs": []
    },
    {
      "cell_type": "code",
      "metadata": {
        "id": "XKXMMBC8geEV",
        "colab_type": "code",
        "colab": {}
      },
      "source": [
        "features, _ = make_blobs(n_samples = 1000,n_features = 2,random_state = 1)\n",
        "true_value = standardized_features[0,0] \n",
        "standardized_features[0,0] = np.nan\n",
        "# Predict the missing values in the feature "
      ],
      "execution_count": 24,
      "outputs": []
    },
    {
      "cell_type": "code",
      "metadata": {
        "id": "B9up9pPNdccK",
        "colab_type": "code",
        "colab": {
          "base_uri": "https://localhost:8080/",
          "height": 136
        },
        "outputId": "f318fddb-eef7-4604-8001-41548c259b24"
      },
      "source": [
        "from sklearn.impute import SimpleImputer \n",
        "imputer = SimpleImputer(missing_values=np.nan, strategy='mean')\n",
        "\n",
        "features_mean_imputed = imputer.fit_transform(features)\n",
        "\n",
        "print(features_mean_imputed)\n"
      ],
      "execution_count": 26,
      "outputs": [
        {
          "output_type": "stream",
          "text": [
            "[[-3.05837272  4.48825769]\n",
            " [-8.60973869 -3.72714879]\n",
            " [ 1.37129721  5.23107449]\n",
            " ...\n",
            " [-1.91854276  4.59578307]\n",
            " [-1.79600465  4.28743568]\n",
            " [-6.97684609 -8.89498834]]\n"
          ],
          "name": "stdout"
        }
      ]
    },
    {
      "cell_type": "markdown",
      "metadata": {
        "id": "eQUDWHuYiLcP",
        "colab_type": "text"
      },
      "source": [
        "Q3.You have a feature with nominal classes that has no intrinsic ordering (e.g., apple, pear, banana). "
      ]
    },
    {
      "cell_type": "code",
      "metadata": {
        "id": "QmJOf8QCh0lg",
        "colab_type": "code",
        "colab": {}
      },
      "source": [
        "import numpy as np\n",
        "from sklearn.preprocessing import LabelBinarizer,MultiLabelBinarizer\n"
      ],
      "execution_count": 27,
      "outputs": []
    },
    {
      "cell_type": "code",
      "metadata": {
        "id": "lYURMLi8jCg8",
        "colab_type": "code",
        "colab": {
          "base_uri": "https://localhost:8080/",
          "height": 102
        },
        "outputId": "357168cb-1f96-46a9-a130-413d9cff48f2"
      },
      "source": [
        "feature=np.array([[\"Texas\"],[\"California\"],[\"Texas\"],[\"Delaware\"],[\"Texas\"]])\n",
        "feature"
      ],
      "execution_count": 28,
      "outputs": [
        {
          "output_type": "execute_result",
          "data": {
            "text/plain": [
              "array([['Texas'],\n",
              "       ['California'],\n",
              "       ['Texas'],\n",
              "       ['Delaware'],\n",
              "       ['Texas']], dtype='<U10')"
            ]
          },
          "metadata": {
            "tags": []
          },
          "execution_count": 28
        }
      ]
    },
    {
      "cell_type": "code",
      "metadata": {
        "id": "i_uCp07RjShz",
        "colab_type": "code",
        "colab": {
          "base_uri": "https://localhost:8080/",
          "height": 34
        },
        "outputId": "d83f99f3-213a-4705-8037-3cc392730d19"
      },
      "source": [
        "one_hot=LabelBinarizer()\n",
        "one_hot.fit_transform(feature)\n",
        "one_hot.classes_"
      ],
      "execution_count": 30,
      "outputs": [
        {
          "output_type": "execute_result",
          "data": {
            "text/plain": [
              "array(['California', 'Delaware', 'Texas'], dtype='<U10')"
            ]
          },
          "metadata": {
            "tags": []
          },
          "execution_count": 30
        }
      ]
    },
    {
      "cell_type": "markdown",
      "metadata": {
        "id": "Fe3IwKEDjoSp",
        "colab_type": "text"
      },
      "source": [
        "If we want to reverse the one-hot encoding, we can use inverse_transform:\n"
      ]
    },
    {
      "cell_type": "code",
      "metadata": {
        "id": "MsLgBzm0jjyA",
        "colab_type": "code",
        "colab": {
          "base_uri": "https://localhost:8080/",
          "height": 34
        },
        "outputId": "9f0b1116-7cea-467f-fa98-6a4cbeafa1d8"
      },
      "source": [
        "one_hot.inverse_transform(one_hot.transform(feature))\n"
      ],
      "execution_count": 31,
      "outputs": [
        {
          "output_type": "execute_result",
          "data": {
            "text/plain": [
              "array(['Texas', 'California', 'Texas', 'Delaware', 'Texas'], dtype='<U10')"
            ]
          },
          "metadata": {
            "tags": []
          },
          "execution_count": 31
        }
      ]
    },
    {
      "cell_type": "code",
      "metadata": {
        "id": "-l-Qkq0Gjr3t",
        "colab_type": "code",
        "colab": {
          "base_uri": "https://localhost:8080/",
          "height": 34
        },
        "outputId": "d5112c0a-c356-4821-a9c9-b38f60d6b7cd"
      },
      "source": [
        "multiclass= [(\"Texas\", \"Florida\"),(\"California\", \"Alabama\"),(\"Texas\", \"Florida\"),(\"Delware\", \"Florida\"),(\"Texas\", \"Alabama\")]\n",
        "one_hot_encode=MultiLabelBinarizer()\n",
        "one_hot_encode.fit_transform(feature)\n",
        "one_hot_encode.classes_"
      ],
      "execution_count": 33,
      "outputs": [
        {
          "output_type": "execute_result",
          "data": {
            "text/plain": [
              "array(['California', 'Delaware', 'Texas'], dtype=object)"
            ]
          },
          "metadata": {
            "tags": []
          },
          "execution_count": 33
        }
      ]
    },
    {
      "cell_type": "markdown",
      "metadata": {
        "id": "8I6oTIrGkOxe",
        "colab_type": "text"
      },
      "source": [
        "Q4.You have an ordinal categorical feature (e.g., high, medium, low). \n",
        "\n",
        "1.   List item\n",
        "2.   List item\n",
        "\n"
      ]
    },
    {
      "cell_type": "code",
      "metadata": {
        "id": "Kqe3xnavkR8L",
        "colab_type": "code",
        "colab": {
          "base_uri": "https://localhost:8080/",
          "height": 136
        },
        "outputId": "e1e8e39f-b861-4d41-df34-fef04afe27c6"
      },
      "source": [
        "dataframe=pd.DataFrame({\"Score\":[\"Low\",\"Low\",\"Medium\",\"Medium\",\"Barely more than medium\",\"High\"]})\n",
        "scale_mapper={\n",
        "    \"Low\":1,\"Medium\":2,\"Barely more than medium\":2.5,\"High\":3\n",
        "}\n",
        "dataframe[\"Score\"].replace(scale_mapper)"
      ],
      "execution_count": 36,
      "outputs": [
        {
          "output_type": "execute_result",
          "data": {
            "text/plain": [
              "0    1.0\n",
              "1    1.0\n",
              "2    2.0\n",
              "3    2.0\n",
              "4    2.5\n",
              "5    3.0\n",
              "Name: Score, dtype: float64"
            ]
          },
          "metadata": {
            "tags": []
          },
          "execution_count": 36
        }
      ]
    },
    {
      "cell_type": "markdown",
      "metadata": {
        "id": "RpOFA-1plnH5",
        "colab_type": "text"
      },
      "source": [
        "Q5.You have a dictionary and want to convert it into a feature matrix. "
      ]
    },
    {
      "cell_type": "code",
      "metadata": {
        "id": "VIGjaUVZlqRB",
        "colab_type": "code",
        "colab": {}
      },
      "source": [
        "from sklearn.feature_extraction import DictVectorizer\n",
        "data_dict=[{\"Red\":2,\"Blue\":4},{\"Red\":3,\"Blue\":0},{\"Red\":2,\"Yellow\":2}]\n"
      ],
      "execution_count": 39,
      "outputs": []
    },
    {
      "cell_type": "code",
      "metadata": {
        "id": "25Xka2fRlm0G",
        "colab_type": "code",
        "colab": {}
      },
      "source": [
        "dicti=DictVectorizer(sparse=False)\n",
        "features=dicti.fit_transform(data_dict)\n"
      ],
      "execution_count": 40,
      "outputs": []
    },
    {
      "cell_type": "code",
      "metadata": {
        "id": "5LUQCUr8nY03",
        "colab_type": "code",
        "colab": {
          "base_uri": "https://localhost:8080/",
          "height": 68
        },
        "outputId": "627f5766-1f34-4785-9b13-867664b5efa7"
      },
      "source": [
        "features"
      ],
      "execution_count": 41,
      "outputs": [
        {
          "output_type": "execute_result",
          "data": {
            "text/plain": [
              "array([[4., 2., 0.],\n",
              "       [0., 3., 0.],\n",
              "       [0., 2., 2.]])"
            ]
          },
          "metadata": {
            "tags": []
          },
          "execution_count": 41
        }
      ]
    },
    {
      "cell_type": "code",
      "metadata": {
        "id": "1ffqkkZhneIs",
        "colab_type": "code",
        "colab": {
          "base_uri": "https://localhost:8080/",
          "height": 34
        },
        "outputId": "110d81a3-3760-4af5-dd27-0000a5e7faa4"
      },
      "source": [
        "feature_names = dicti.get_feature_names()\n",
        "feature_names"
      ],
      "execution_count": 44,
      "outputs": [
        {
          "output_type": "execute_result",
          "data": {
            "text/plain": [
              "['Blue', 'Red', 'Yellow']"
            ]
          },
          "metadata": {
            "tags": []
          },
          "execution_count": 44
        }
      ]
    },
    {
      "cell_type": "code",
      "metadata": {
        "id": "7w8PopnInoD9",
        "colab_type": "code",
        "colab": {
          "base_uri": "https://localhost:8080/",
          "height": 142
        },
        "outputId": "dc783c0f-aaf1-4bc1-e5a1-3cad165231ec"
      },
      "source": [
        "pd.DataFrame(features,columns=feature_names)"
      ],
      "execution_count": 46,
      "outputs": [
        {
          "output_type": "execute_result",
          "data": {
            "text/html": [
              "<div>\n",
              "<style scoped>\n",
              "    .dataframe tbody tr th:only-of-type {\n",
              "        vertical-align: middle;\n",
              "    }\n",
              "\n",
              "    .dataframe tbody tr th {\n",
              "        vertical-align: top;\n",
              "    }\n",
              "\n",
              "    .dataframe thead th {\n",
              "        text-align: right;\n",
              "    }\n",
              "</style>\n",
              "<table border=\"1\" class=\"dataframe\">\n",
              "  <thead>\n",
              "    <tr style=\"text-align: right;\">\n",
              "      <th></th>\n",
              "      <th>Blue</th>\n",
              "      <th>Red</th>\n",
              "      <th>Yellow</th>\n",
              "    </tr>\n",
              "  </thead>\n",
              "  <tbody>\n",
              "    <tr>\n",
              "      <th>0</th>\n",
              "      <td>4.0</td>\n",
              "      <td>2.0</td>\n",
              "      <td>0.0</td>\n",
              "    </tr>\n",
              "    <tr>\n",
              "      <th>1</th>\n",
              "      <td>0.0</td>\n",
              "      <td>3.0</td>\n",
              "      <td>0.0</td>\n",
              "    </tr>\n",
              "    <tr>\n",
              "      <th>2</th>\n",
              "      <td>0.0</td>\n",
              "      <td>2.0</td>\n",
              "      <td>2.0</td>\n",
              "    </tr>\n",
              "  </tbody>\n",
              "</table>\n",
              "</div>"
            ],
            "text/plain": [
              "   Blue  Red  Yellow\n",
              "0   4.0  2.0     0.0\n",
              "1   0.0  3.0     0.0\n",
              "2   0.0  2.0     2.0"
            ]
          },
          "metadata": {
            "tags": []
          },
          "execution_count": 46
        }
      ]
    },
    {
      "cell_type": "code",
      "metadata": {
        "id": "2VhljUwkoq5I",
        "colab_type": "code",
        "colab": {}
      },
      "source": [
        ""
      ],
      "execution_count": null,
      "outputs": []
    }
  ]
}