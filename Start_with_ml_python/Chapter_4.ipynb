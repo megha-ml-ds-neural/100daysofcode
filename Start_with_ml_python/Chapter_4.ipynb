{
  "nbformat": 4,
  "nbformat_minor": 0,
  "metadata": {
    "colab": {
      "name": "Chapter 4.ipynb",
      "provenance": []
    },
    "kernelspec": {
      "name": "python3",
      "display_name": "Python 3"
    }
  },
  "cells": [
    {
      "cell_type": "markdown",
      "metadata": {
        "id": "NQXDxiUlQDRX",
        "colab_type": "text"
      },
      "source": [
        "Q1.You need to rescale the values of a numerical feaature to be between two values"
      ]
    },
    {
      "cell_type": "code",
      "metadata": {
        "id": "tx_JRY-hPQtP",
        "colab_type": "code",
        "colab": {}
      },
      "source": [
        "import numpy as np\n",
        "from sklearn import preprocessing"
      ],
      "execution_count": 3,
      "outputs": []
    },
    {
      "cell_type": "code",
      "metadata": {
        "id": "ytTN_F9CRi1J",
        "colab_type": "code",
        "colab": {
          "base_uri": "https://localhost:8080/",
          "height": 102
        },
        "outputId": "f3d3ece7-9622-41c4-856b-ee4fceba9ebf"
      },
      "source": [
        "feature=np.array([[-500.5],[-100.1],[0],[100.1],[900.9]])\n",
        "minmax_scale=preprocessing.MinMaxScaler(feature_range=(0,1))\n",
        "scaled_feature=minmax_scale.fit_transform(feature)\n",
        "scaled_feature"
      ],
      "execution_count": 4,
      "outputs": [
        {
          "output_type": "execute_result",
          "data": {
            "text/plain": [
              "array([[0.        ],\n",
              "       [0.28571429],\n",
              "       [0.35714286],\n",
              "       [0.42857143],\n",
              "       [1.        ]])"
            ]
          },
          "metadata": {
            "tags": []
          },
          "execution_count": 4
        }
      ]
    },
    {
      "cell_type": "markdown",
      "metadata": {
        "id": "K2wUovNzSLTY",
        "colab_type": "text"
      },
      "source": [
        "Q2.You want to transform a feature to have a mean of 0 and a standard deviation of 1. "
      ]
    },
    {
      "cell_type": "code",
      "metadata": {
        "id": "ETDyRslASN0K",
        "colab_type": "code",
        "colab": {
          "base_uri": "https://localhost:8080/",
          "height": 102
        },
        "outputId": "752c0a4c-cd95-4568-8135-ebdca05356e5"
      },
      "source": [
        "x=np.array([[-1000.1],[-200.2],[500.5],[600.6],[9000.9]])\n",
        "scaler=preprocessing.StandardScaler()\n",
        "scaled_feature=scaler.fit_transform(x)\n",
        "scaled_feature"
      ],
      "execution_count": 5,
      "outputs": [
        {
          "output_type": "execute_result",
          "data": {
            "text/plain": [
              "array([[-0.76058269],\n",
              "       [-0.54177196],\n",
              "       [-0.35009716],\n",
              "       [-0.32271504],\n",
              "       [ 1.97516685]])"
            ]
          },
          "metadata": {
            "tags": []
          },
          "execution_count": 5
        }
      ]
    },
    {
      "cell_type": "code",
      "metadata": {
        "id": "3aTSLgDPTA9s",
        "colab_type": "code",
        "colab": {
          "base_uri": "https://localhost:8080/",
          "height": 34
        },
        "outputId": "ae5e5505-5c57-453e-ef5a-eda28088ad06"
      },
      "source": [
        "print(round(scaled_feature.mean()))"
      ],
      "execution_count": 7,
      "outputs": [
        {
          "output_type": "stream",
          "text": [
            "0.0\n"
          ],
          "name": "stdout"
        }
      ]
    },
    {
      "cell_type": "code",
      "metadata": {
        "id": "l3E_FuZTTmcF",
        "colab_type": "code",
        "colab": {
          "base_uri": "https://localhost:8080/",
          "height": 34
        },
        "outputId": "ebf0d3b0-b915-4271-bb0e-6fbdf38cd5ab"
      },
      "source": [
        "print(round(scaled_feature.std()))"
      ],
      "execution_count": 8,
      "outputs": [
        {
          "output_type": "stream",
          "text": [
            "1.0\n"
          ],
          "name": "stdout"
        }
      ]
    },
    {
      "cell_type": "code",
      "metadata": {
        "id": "ZgReADgEUB6k",
        "colab_type": "code",
        "colab": {
          "base_uri": "https://localhost:8080/",
          "height": 102
        },
        "outputId": "819020e3-7291-4cb7-e0e1-44a4b32c2a79"
      },
      "source": [
        "robust_scaler=preprocessing.RobustScaler()\n",
        "scaler=robust_scaler.fit_transform(x)\n",
        "scaler"
      ],
      "execution_count": 9,
      "outputs": [
        {
          "output_type": "execute_result",
          "data": {
            "text/plain": [
              "array([[-1.87387612],\n",
              "       [-0.875     ],\n",
              "       [ 0.        ],\n",
              "       [ 0.125     ],\n",
              "       [10.61488511]])"
            ]
          },
          "metadata": {
            "tags": []
          },
          "execution_count": 9
        }
      ]
    },
    {
      "cell_type": "markdown",
      "metadata": {
        "id": "7xmPqm6nUadH",
        "colab_type": "text"
      },
      "source": [
        "Q3.You want to rescale the feature values of observations to have unit norm (a total length of 1)."
      ]
    },
    {
      "cell_type": "code",
      "metadata": {
        "id": "KsAxBBMpU-zI",
        "colab_type": "code",
        "colab": {}
      },
      "source": [
        "from sklearn.preprocessing import Normalizer\n"
      ],
      "execution_count": 11,
      "outputs": []
    },
    {
      "cell_type": "code",
      "metadata": {
        "id": "cTKiR89bUaKH",
        "colab_type": "code",
        "colab": {
          "base_uri": "https://localhost:8080/",
          "height": 102
        },
        "outputId": "1b741136-4f36-4990-da18-6160a0a7cda4"
      },
      "source": [
        "features = np.array([[0.5, 0.5],[1.1, 3.4],[1.5, 20.2],[1.63, 34.],[10.9, 3.3]])\n",
        "normalizer=Normalizer(norm=\"l2\")\n",
        "normalizer.transform(features)\n"
      ],
      "execution_count": 12,
      "outputs": [
        {
          "output_type": "execute_result",
          "data": {
            "text/plain": [
              "array([[0.70710678, 0.70710678],\n",
              "       [0.30782029, 0.95144452],\n",
              "       [0.07405353, 0.99725427],\n",
              "       [0.04788618, 0.9988528 ],\n",
              "       [0.95709822, 0.28976368]])"
            ]
          },
          "metadata": {
            "tags": []
          },
          "execution_count": 12
        }
      ]
    },
    {
      "cell_type": "markdown",
      "metadata": {
        "id": "OXauEE5EVk7S",
        "colab_type": "text"
      },
      "source": [
        "Alternatively,we can specify Manhattan form(L1):"
      ]
    },
    {
      "cell_type": "code",
      "metadata": {
        "id": "ms7e5TvbVkTc",
        "colab_type": "code",
        "colab": {
          "base_uri": "https://localhost:8080/",
          "height": 102
        },
        "outputId": "630bbf15-8c7b-47ca-f75e-bd5622744dc9"
      },
      "source": [
        "features_l1_norm = Normalizer(norm=\"l1\").transform(features)\n",
        "features_l1_norm"
      ],
      "execution_count": 13,
      "outputs": [
        {
          "output_type": "execute_result",
          "data": {
            "text/plain": [
              "array([[0.5       , 0.5       ],\n",
              "       [0.24444444, 0.75555556],\n",
              "       [0.06912442, 0.93087558],\n",
              "       [0.04574797, 0.95425203],\n",
              "       [0.76760563, 0.23239437]])"
            ]
          },
          "metadata": {
            "tags": []
          },
          "execution_count": 13
        }
      ]
    },
    {
      "cell_type": "code",
      "metadata": {
        "id": "bqW8WX0QVySq",
        "colab_type": "code",
        "colab": {
          "base_uri": "https://localhost:8080/",
          "height": 34
        },
        "outputId": "eb5b949d-9366-4454-a89e-7fbe1dbf8a7a"
      },
      "source": [
        " print(features_l1_norm[0, 0] + features_l1_norm[0, 1])\n"
      ],
      "execution_count": 14,
      "outputs": [
        {
          "output_type": "stream",
          "text": [
            "1.0\n"
          ],
          "name": "stdout"
        }
      ]
    },
    {
      "cell_type": "code",
      "metadata": {
        "id": "NglUZ5mJW2Ap",
        "colab_type": "code",
        "colab": {
          "base_uri": "https://localhost:8080/",
          "height": 102
        },
        "outputId": "2fe8f52f-ac1b-4e08-d4d8-3ba1b2c35680"
      },
      "source": [
        "features_l2_norm = Normalizer(norm=\"l2\").transform(features)\n",
        "features_l2_norm"
      ],
      "execution_count": 15,
      "outputs": [
        {
          "output_type": "execute_result",
          "data": {
            "text/plain": [
              "array([[0.70710678, 0.70710678],\n",
              "       [0.30782029, 0.95144452],\n",
              "       [0.07405353, 0.99725427],\n",
              "       [0.04788618, 0.9988528 ],\n",
              "       [0.95709822, 0.28976368]])"
            ]
          },
          "metadata": {
            "tags": []
          },
          "execution_count": 15
        }
      ]
    },
    {
      "cell_type": "code",
      "metadata": {
        "id": "dgD3UboGW-OV",
        "colab_type": "code",
        "colab": {
          "base_uri": "https://localhost:8080/",
          "height": 34
        },
        "outputId": "e82fb55e-263b-4c09-ee4c-6cc50a8f5a6b"
      },
      "source": [
        " print(features_l2_norm[0, 0] + features_l2_norm[0, 1])"
      ],
      "execution_count": 16,
      "outputs": [
        {
          "output_type": "stream",
          "text": [
            "1.414213562373095\n"
          ],
          "name": "stdout"
        }
      ]
    },
    {
      "cell_type": "markdown",
      "metadata": {
        "id": "4WkszIIYXFpV",
        "colab_type": "text"
      },
      "source": [
        "Q4.You want to create polynominal and interaction features"
      ]
    },
    {
      "cell_type": "code",
      "metadata": {
        "id": "zCvTYI9tXIIT",
        "colab_type": "code",
        "colab": {
          "base_uri": "https://localhost:8080/",
          "height": 68
        },
        "outputId": "f7219f97-dd08-4d50-bf60-a73970fcc42d"
      },
      "source": [
        "from sklearn.preprocessing import PolynomialFeatures\n",
        "feature=np.array([[2,4],[5,6],[2,3]])\n",
        "poly=PolynomialFeatures(degree=2,include_bias=False)\n",
        "poly.fit_transform(feature)\n"
      ],
      "execution_count": 17,
      "outputs": [
        {
          "output_type": "execute_result",
          "data": {
            "text/plain": [
              "array([[ 2.,  4.,  4.,  8., 16.],\n",
              "       [ 5.,  6., 25., 30., 36.],\n",
              "       [ 2.,  3.,  4.,  6.,  9.]])"
            ]
          },
          "metadata": {
            "tags": []
          },
          "execution_count": 17
        }
      ]
    },
    {
      "cell_type": "code",
      "metadata": {
        "id": "sko4f8TfYgeg",
        "colab_type": "code",
        "colab": {
          "base_uri": "https://localhost:8080/",
          "height": 68
        },
        "outputId": "271aeae3-dd90-4cf1-952e-5ba00f414290"
      },
      "source": [
        "interaction = PolynomialFeatures(degree=2,interaction_only=True,include_bias=False)\n",
        "interaction.fit_transform(feature)\n"
      ],
      "execution_count": 22,
      "outputs": [
        {
          "output_type": "execute_result",
          "data": {
            "text/plain": [
              "array([[ 2.,  4.,  8.],\n",
              "       [ 5.,  6., 30.],\n",
              "       [ 2.,  3.,  6.]])"
            ]
          },
          "metadata": {
            "tags": []
          },
          "execution_count": 22
        }
      ]
    },
    {
      "cell_type": "markdown",
      "metadata": {
        "id": "O1hrM9-UY--7",
        "colab_type": "text"
      },
      "source": [
        "Q5.You want to make a custom transformation to one or more features. "
      ]
    },
    {
      "cell_type": "markdown",
      "metadata": {
        "id": "2zQFxxU_ZHfK",
        "colab_type": "text"
      },
      "source": [
        "It is common to want to make some custom transformations to one or more features. For example, we might want to create a feature that is the natural log of the values of the different feature. We can do this by creating a function and then mapping it to features using either scikit-learn’s FunctionTransformer or pandas’ apply. In the solution we created a very simple function, add_ten, which added 10 to each input, but there is no reason we could not define a much more complex function. "
      ]
    },
    {
      "cell_type": "code",
      "metadata": {
        "id": "paCavNpRY-A2",
        "colab_type": "code",
        "colab": {
          "base_uri": "https://localhost:8080/",
          "height": 68
        },
        "outputId": "c95512e1-6e6d-4d2b-8956-441c5be201e2"
      },
      "source": [
        "from sklearn.preprocessing import FunctionTransformer\n",
        "features=np.array([[2,3],[2,3],[2,3]])\n",
        "def add_ten(x):\n",
        "  return x+10\n",
        "\n",
        "ten=FunctionTransformer(add_ten)\n",
        "ten.transform(features)"
      ],
      "execution_count": 23,
      "outputs": [
        {
          "output_type": "execute_result",
          "data": {
            "text/plain": [
              "array([[12, 13],\n",
              "       [12, 13],\n",
              "       [12, 13]])"
            ]
          },
          "metadata": {
            "tags": []
          },
          "execution_count": 23
        }
      ]
    },
    {
      "cell_type": "code",
      "metadata": {
        "id": "JoJjYAQOZlnd",
        "colab_type": "code",
        "colab": {
          "base_uri": "https://localhost:8080/",
          "height": 142
        },
        "outputId": "510eb444-e8d4-49fd-ca0a-9ee3cf4969e2"
      },
      "source": [
        "import pandas as pd\n",
        "df=pd.DataFrame(features,columns=[\"feature_1\",\"feature_2\"])\n",
        "df.apply(add_ten)"
      ],
      "execution_count": 25,
      "outputs": [
        {
          "output_type": "execute_result",
          "data": {
            "text/html": [
              "<div>\n",
              "<style scoped>\n",
              "    .dataframe tbody tr th:only-of-type {\n",
              "        vertical-align: middle;\n",
              "    }\n",
              "\n",
              "    .dataframe tbody tr th {\n",
              "        vertical-align: top;\n",
              "    }\n",
              "\n",
              "    .dataframe thead th {\n",
              "        text-align: right;\n",
              "    }\n",
              "</style>\n",
              "<table border=\"1\" class=\"dataframe\">\n",
              "  <thead>\n",
              "    <tr style=\"text-align: right;\">\n",
              "      <th></th>\n",
              "      <th>feature_1</th>\n",
              "      <th>feature_2</th>\n",
              "    </tr>\n",
              "  </thead>\n",
              "  <tbody>\n",
              "    <tr>\n",
              "      <th>0</th>\n",
              "      <td>12</td>\n",
              "      <td>13</td>\n",
              "    </tr>\n",
              "    <tr>\n",
              "      <th>1</th>\n",
              "      <td>12</td>\n",
              "      <td>13</td>\n",
              "    </tr>\n",
              "    <tr>\n",
              "      <th>2</th>\n",
              "      <td>12</td>\n",
              "      <td>13</td>\n",
              "    </tr>\n",
              "  </tbody>\n",
              "</table>\n",
              "</div>"
            ],
            "text/plain": [
              "   feature_1  feature_2\n",
              "0         12         13\n",
              "1         12         13\n",
              "2         12         13"
            ]
          },
          "metadata": {
            "tags": []
          },
          "execution_count": 25
        }
      ]
    },
    {
      "cell_type": "markdown",
      "metadata": {
        "id": "kkYdGSyBZ61w",
        "colab_type": "text"
      },
      "source": [
        "Q6.You want to identify extreme observations. "
      ]
    },
    {
      "cell_type": "markdown",
      "metadata": {
        "id": "YuiOXgpYaQiK",
        "colab_type": "text"
      },
      "source": [
        "Detecting outliers is unfortunately more of an art than a science. However, a common method is to assume the data is normally distributed and based on that assumption “draw” an ellipse around the data, classifying any observation inside the ellipse as an inlier (labeled as 1) and any observation outside the ellipse as an outlier (labeled as -1):\n"
      ]
    },
    {
      "cell_type": "code",
      "metadata": {
        "id": "w8SmVbo7Zkky",
        "colab_type": "code",
        "colab": {
          "base_uri": "https://localhost:8080/",
          "height": 34
        },
        "outputId": "2d7613ac-f741-49da-bbf7-f8bea0ebd1a2"
      },
      "source": [
        "from sklearn.covariance import EllipticEnvelope\n",
        "from sklearn.datasets import make_blobs\n",
        "features,_=make_blobs(n_samples=10,n_features=2,centers=1,random_state=1)\n",
        "# replace the first observations with extreme values\n",
        "features[0,0]=1000\n",
        "features[1,1]=1000\n",
        "outlier_detector = EllipticEnvelope(contamination=.2)\n",
        "# Fit detector outlier_detector.fit(features)\n",
        "outlier_detector.fit(features)\n",
        "# Predict outliers outlier_detector.predict(features)\n",
        "outlier_detector.predict(features)"
      ],
      "execution_count": 30,
      "outputs": [
        {
          "output_type": "execute_result",
          "data": {
            "text/plain": [
              "array([-1, -1,  1,  1,  1,  1,  1,  1,  1,  1])"
            ]
          },
          "metadata": {
            "tags": []
          },
          "execution_count": 30
        }
      ]
    },
    {
      "cell_type": "markdown",
      "metadata": {
        "id": "CA3pLsXGeNFP",
        "colab_type": "text"
      },
      "source": [
        "Q7 How u will handle the outliers"
      ]
    },
    {
      "cell_type": "markdown",
      "metadata": {
        "id": "bMrp9np9eSy9",
        "colab_type": "text"
      },
      "source": [
        "Typically we have three strategies we can use to handle outliers. First, we can drop them:\n"
      ]
    },
    {
      "cell_type": "code",
      "metadata": {
        "id": "-5EzzKBieMff",
        "colab_type": "code",
        "colab": {
          "base_uri": "https://localhost:8080/",
          "height": 142
        },
        "outputId": "d6972c93-3a27-4052-d96c-ad6ce5837f2a"
      },
      "source": [
        "import pandas as pd\n",
        "houses=pd.DataFrame()\n",
        "houses['Price']=[34506,45678,89000,10001]\n",
        "houses['Bathrooms']=[1,2,4,116]\n",
        "houses['Square_feet']=[1500,1200,2000,23000]\n",
        "houses[houses['Bathrooms']<20]"
      ],
      "execution_count": 31,
      "outputs": [
        {
          "output_type": "execute_result",
          "data": {
            "text/html": [
              "<div>\n",
              "<style scoped>\n",
              "    .dataframe tbody tr th:only-of-type {\n",
              "        vertical-align: middle;\n",
              "    }\n",
              "\n",
              "    .dataframe tbody tr th {\n",
              "        vertical-align: top;\n",
              "    }\n",
              "\n",
              "    .dataframe thead th {\n",
              "        text-align: right;\n",
              "    }\n",
              "</style>\n",
              "<table border=\"1\" class=\"dataframe\">\n",
              "  <thead>\n",
              "    <tr style=\"text-align: right;\">\n",
              "      <th></th>\n",
              "      <th>Price</th>\n",
              "      <th>Bathrooms</th>\n",
              "      <th>Square_feet</th>\n",
              "    </tr>\n",
              "  </thead>\n",
              "  <tbody>\n",
              "    <tr>\n",
              "      <th>0</th>\n",
              "      <td>34506</td>\n",
              "      <td>1</td>\n",
              "      <td>1500</td>\n",
              "    </tr>\n",
              "    <tr>\n",
              "      <th>1</th>\n",
              "      <td>45678</td>\n",
              "      <td>2</td>\n",
              "      <td>1200</td>\n",
              "    </tr>\n",
              "    <tr>\n",
              "      <th>2</th>\n",
              "      <td>89000</td>\n",
              "      <td>4</td>\n",
              "      <td>2000</td>\n",
              "    </tr>\n",
              "  </tbody>\n",
              "</table>\n",
              "</div>"
            ],
            "text/plain": [
              "   Price  Bathrooms  Square_feet\n",
              "0  34506          1         1500\n",
              "1  45678          2         1200\n",
              "2  89000          4         2000"
            ]
          },
          "metadata": {
            "tags": []
          },
          "execution_count": 31
        }
      ]
    },
    {
      "cell_type": "markdown",
      "metadata": {
        "id": "SZxYSUfveuuu",
        "colab_type": "text"
      },
      "source": [
        "Second, we can mark them as outliers and include it as a feature:\n"
      ]
    },
    {
      "cell_type": "code",
      "metadata": {
        "id": "OJ8h5XVKew94",
        "colab_type": "code",
        "colab": {
          "base_uri": "https://localhost:8080/",
          "height": 173
        },
        "outputId": "c502aa42-e549-4d0f-de35-d9696c14f111"
      },
      "source": [
        "houses[\"Outliers\"]=np.where(houses[\"Bathrooms\"]<20,0,1)\n",
        "houses"
      ],
      "execution_count": 32,
      "outputs": [
        {
          "output_type": "execute_result",
          "data": {
            "text/html": [
              "<div>\n",
              "<style scoped>\n",
              "    .dataframe tbody tr th:only-of-type {\n",
              "        vertical-align: middle;\n",
              "    }\n",
              "\n",
              "    .dataframe tbody tr th {\n",
              "        vertical-align: top;\n",
              "    }\n",
              "\n",
              "    .dataframe thead th {\n",
              "        text-align: right;\n",
              "    }\n",
              "</style>\n",
              "<table border=\"1\" class=\"dataframe\">\n",
              "  <thead>\n",
              "    <tr style=\"text-align: right;\">\n",
              "      <th></th>\n",
              "      <th>Price</th>\n",
              "      <th>Bathrooms</th>\n",
              "      <th>Square_feet</th>\n",
              "      <th>Outliers</th>\n",
              "    </tr>\n",
              "  </thead>\n",
              "  <tbody>\n",
              "    <tr>\n",
              "      <th>0</th>\n",
              "      <td>34506</td>\n",
              "      <td>1</td>\n",
              "      <td>1500</td>\n",
              "      <td>0</td>\n",
              "    </tr>\n",
              "    <tr>\n",
              "      <th>1</th>\n",
              "      <td>45678</td>\n",
              "      <td>2</td>\n",
              "      <td>1200</td>\n",
              "      <td>0</td>\n",
              "    </tr>\n",
              "    <tr>\n",
              "      <th>2</th>\n",
              "      <td>89000</td>\n",
              "      <td>4</td>\n",
              "      <td>2000</td>\n",
              "      <td>0</td>\n",
              "    </tr>\n",
              "    <tr>\n",
              "      <th>3</th>\n",
              "      <td>10001</td>\n",
              "      <td>116</td>\n",
              "      <td>23000</td>\n",
              "      <td>1</td>\n",
              "    </tr>\n",
              "  </tbody>\n",
              "</table>\n",
              "</div>"
            ],
            "text/plain": [
              "   Price  Bathrooms  Square_feet  Outliers\n",
              "0  34506          1         1500         0\n",
              "1  45678          2         1200         0\n",
              "2  89000          4         2000         0\n",
              "3  10001        116        23000         1"
            ]
          },
          "metadata": {
            "tags": []
          },
          "execution_count": 32
        }
      ]
    },
    {
      "cell_type": "markdown",
      "metadata": {
        "id": "XmKNur-fe9ZW",
        "colab_type": "text"
      },
      "source": [
        "Second, we can mark them as outliers and include it as a feature:\n"
      ]
    },
    {
      "cell_type": "code",
      "metadata": {
        "id": "h7j7J_hue_vA",
        "colab_type": "code",
        "colab": {
          "base_uri": "https://localhost:8080/",
          "height": 173
        },
        "outputId": "a732ad5e-ae63-43c2-ecc5-75fe400fcc57"
      },
      "source": [
        "houses[\"Log_Of_Square_Feet\"] = [np.log(x) for x in houses[\"Square_feet\"]]\n",
        "# Show data \n",
        "houses"
      ],
      "execution_count": 34,
      "outputs": [
        {
          "output_type": "execute_result",
          "data": {
            "text/html": [
              "<div>\n",
              "<style scoped>\n",
              "    .dataframe tbody tr th:only-of-type {\n",
              "        vertical-align: middle;\n",
              "    }\n",
              "\n",
              "    .dataframe tbody tr th {\n",
              "        vertical-align: top;\n",
              "    }\n",
              "\n",
              "    .dataframe thead th {\n",
              "        text-align: right;\n",
              "    }\n",
              "</style>\n",
              "<table border=\"1\" class=\"dataframe\">\n",
              "  <thead>\n",
              "    <tr style=\"text-align: right;\">\n",
              "      <th></th>\n",
              "      <th>Price</th>\n",
              "      <th>Bathrooms</th>\n",
              "      <th>Square_feet</th>\n",
              "      <th>Outliers</th>\n",
              "      <th>Log_Of_Square_Feet</th>\n",
              "    </tr>\n",
              "  </thead>\n",
              "  <tbody>\n",
              "    <tr>\n",
              "      <th>0</th>\n",
              "      <td>34506</td>\n",
              "      <td>1</td>\n",
              "      <td>1500</td>\n",
              "      <td>0</td>\n",
              "      <td>7.313220</td>\n",
              "    </tr>\n",
              "    <tr>\n",
              "      <th>1</th>\n",
              "      <td>45678</td>\n",
              "      <td>2</td>\n",
              "      <td>1200</td>\n",
              "      <td>0</td>\n",
              "      <td>7.090077</td>\n",
              "    </tr>\n",
              "    <tr>\n",
              "      <th>2</th>\n",
              "      <td>89000</td>\n",
              "      <td>4</td>\n",
              "      <td>2000</td>\n",
              "      <td>0</td>\n",
              "      <td>7.600902</td>\n",
              "    </tr>\n",
              "    <tr>\n",
              "      <th>3</th>\n",
              "      <td>10001</td>\n",
              "      <td>116</td>\n",
              "      <td>23000</td>\n",
              "      <td>1</td>\n",
              "      <td>10.043249</td>\n",
              "    </tr>\n",
              "  </tbody>\n",
              "</table>\n",
              "</div>"
            ],
            "text/plain": [
              "   Price  Bathrooms  Square_feet  Outliers  Log_Of_Square_Feet\n",
              "0  34506          1         1500         0            7.313220\n",
              "1  45678          2         1200         0            7.090077\n",
              "2  89000          4         2000         0            7.600902\n",
              "3  10001        116        23000         1           10.043249"
            ]
          },
          "metadata": {
            "tags": []
          },
          "execution_count": 34
        }
      ]
    },
    {
      "cell_type": "markdown",
      "metadata": {
        "id": "vN8hTfU8fR1q",
        "colab_type": "text"
      },
      "source": [
        "Q8.You have a numerical feature and want to break it up into discrete bins"
      ]
    },
    {
      "cell_type": "code",
      "metadata": {
        "id": "iLPbnqSGfZ7X",
        "colab_type": "code",
        "colab": {
          "base_uri": "https://localhost:8080/",
          "height": 221
        },
        "outputId": "edd2c44a-bb66-43e6-8fb0-831832be5fe9"
      },
      "source": [
        "from sklearn.preprocessing import Binarizer\n",
        "age=np.array([[2],[4],[6],[10],[12],[14],[16],[18],[22],[30],[45],[60]])\n",
        "binarizer=Binarizer(25)\n",
        "binarizer.fit_transform(age)"
      ],
      "execution_count": 37,
      "outputs": [
        {
          "output_type": "execute_result",
          "data": {
            "text/plain": [
              "array([[0],\n",
              "       [0],\n",
              "       [0],\n",
              "       [0],\n",
              "       [0],\n",
              "       [0],\n",
              "       [0],\n",
              "       [0],\n",
              "       [0],\n",
              "       [1],\n",
              "       [1],\n",
              "       [1]])"
            ]
          },
          "metadata": {
            "tags": []
          },
          "execution_count": 37
        }
      ]
    }
  ]
}