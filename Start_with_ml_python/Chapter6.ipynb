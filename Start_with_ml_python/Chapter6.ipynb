{
  "nbformat": 4,
  "nbformat_minor": 0,
  "metadata": {
    "colab": {
      "name": "Chapter6.ipynb",
      "provenance": []
    },
    "kernelspec": {
      "name": "python3",
      "display_name": "Python 3"
    }
  },
  "cells": [
    {
      "cell_type": "markdown",
      "metadata": {
        "id": "NDLKUQbyy-ru",
        "colab_type": "text"
      },
      "source": [
        "Q1.You have a categorical feature containing missing values that you want to replace with predicted values"
      ]
    },
    {
      "cell_type": "code",
      "metadata": {
        "id": "ich-8MEzzOiD",
        "colab_type": "code",
        "colab": {}
      },
      "source": [
        "import numpy as np\n",
        "from sklearn.impute import SimpleImputer\n",
        "import pandas as pd"
      ],
      "execution_count": 11,
      "outputs": []
    },
    {
      "cell_type": "code",
      "metadata": {
        "id": "cP7oE1KDyt7P",
        "colab_type": "code",
        "colab": {
          "base_uri": "https://localhost:8080/",
          "height": 204
        },
        "outputId": "8ffd719b-61e2-4636-d0e4-488b3cc4186e"
      },
      "source": [
        "X=pd.DataFrame([[0,2.10,1.45],[1,2,3],[0,2.22,1.24],[4,5,1],[np.nan,9.0,8.9]])\n",
        "X"
      ],
      "execution_count": 12,
      "outputs": [
        {
          "output_type": "execute_result",
          "data": {
            "text/html": [
              "<div>\n",
              "<style scoped>\n",
              "    .dataframe tbody tr th:only-of-type {\n",
              "        vertical-align: middle;\n",
              "    }\n",
              "\n",
              "    .dataframe tbody tr th {\n",
              "        vertical-align: top;\n",
              "    }\n",
              "\n",
              "    .dataframe thead th {\n",
              "        text-align: right;\n",
              "    }\n",
              "</style>\n",
              "<table border=\"1\" class=\"dataframe\">\n",
              "  <thead>\n",
              "    <tr style=\"text-align: right;\">\n",
              "      <th></th>\n",
              "      <th>0</th>\n",
              "      <th>1</th>\n",
              "      <th>2</th>\n",
              "    </tr>\n",
              "  </thead>\n",
              "  <tbody>\n",
              "    <tr>\n",
              "      <th>0</th>\n",
              "      <td>0.0</td>\n",
              "      <td>2.10</td>\n",
              "      <td>1.45</td>\n",
              "    </tr>\n",
              "    <tr>\n",
              "      <th>1</th>\n",
              "      <td>1.0</td>\n",
              "      <td>2.00</td>\n",
              "      <td>3.00</td>\n",
              "    </tr>\n",
              "    <tr>\n",
              "      <th>2</th>\n",
              "      <td>0.0</td>\n",
              "      <td>2.22</td>\n",
              "      <td>1.24</td>\n",
              "    </tr>\n",
              "    <tr>\n",
              "      <th>3</th>\n",
              "      <td>4.0</td>\n",
              "      <td>5.00</td>\n",
              "      <td>1.00</td>\n",
              "    </tr>\n",
              "    <tr>\n",
              "      <th>4</th>\n",
              "      <td>NaN</td>\n",
              "      <td>9.00</td>\n",
              "      <td>8.90</td>\n",
              "    </tr>\n",
              "  </tbody>\n",
              "</table>\n",
              "</div>"
            ],
            "text/plain": [
              "     0     1     2\n",
              "0  0.0  2.10  1.45\n",
              "1  1.0  2.00  3.00\n",
              "2  0.0  2.22  1.24\n",
              "3  4.0  5.00  1.00\n",
              "4  NaN  9.00  8.90"
            ]
          },
          "metadata": {
            "tags": []
          },
          "execution_count": 12
        }
      ]
    },
    {
      "cell_type": "code",
      "metadata": {
        "id": "FHFVerqDz39l",
        "colab_type": "code",
        "colab": {
          "base_uri": "https://localhost:8080/",
          "height": 102
        },
        "outputId": "15f0aa7c-3060-4f1d-b98f-1fc42cd8d0c2"
      },
      "source": [
        "imputer=SimpleImputer(strategy='most_frequent')\n",
        "imputer.fit_transform(X)"
      ],
      "execution_count": 14,
      "outputs": [
        {
          "output_type": "execute_result",
          "data": {
            "text/plain": [
              "array([[0.  , 2.1 , 1.45],\n",
              "       [1.  , 2.  , 3.  ],\n",
              "       [0.  , 2.22, 1.24],\n",
              "       [4.  , 5.  , 1.  ],\n",
              "       [0.  , 9.  , 8.9 ]])"
            ]
          },
          "metadata": {
            "tags": []
          },
          "execution_count": 14
        }
      ]
    },
    {
      "cell_type": "markdown",
      "metadata": {
        "id": "GwAxIY0a1eAT",
        "colab_type": "text"
      },
      "source": [
        "Q2.You have some unstructured text data and want to complete some basic cleaning."
      ]
    },
    {
      "cell_type": "code",
      "metadata": {
        "id": "SeVRg9w61hdH",
        "colab_type": "code",
        "colab": {
          "base_uri": "https://localhost:8080/",
          "height": 68
        },
        "outputId": "8938e3a6-4fc5-4460-ea0e-1277b217b789"
      },
      "source": [
        "text_data=[\"  Interrobang. By Aishwarya Henriette     \",             \"Parking And Going. By Karl Gautier\",             \"    Today Is The night. By Jarek Prakash   \"]\n",
        "text_data\n"
      ],
      "execution_count": 15,
      "outputs": [
        {
          "output_type": "execute_result",
          "data": {
            "text/plain": [
              "['  Interrobang. By Aishwarya Henriette     ',\n",
              " 'Parking And Going. By Karl Gautier',\n",
              " '    Today Is The night. By Jarek Prakash   ']"
            ]
          },
          "metadata": {
            "tags": []
          },
          "execution_count": 15
        }
      ]
    },
    {
      "cell_type": "code",
      "metadata": {
        "id": "3kkKtq4G2NGl",
        "colab_type": "code",
        "colab": {
          "base_uri": "https://localhost:8080/",
          "height": 68
        },
        "outputId": "6227aabe-ffd0-4f61-dc72-a9f375ffb78f"
      },
      "source": [
        "strip_white_space=[string.strip() for string in text_data]\n",
        "strip_white_space"
      ],
      "execution_count": 16,
      "outputs": [
        {
          "output_type": "execute_result",
          "data": {
            "text/plain": [
              "['Interrobang. By Aishwarya Henriette',\n",
              " 'Parking And Going. By Karl Gautier',\n",
              " 'Today Is The night. By Jarek Prakash']"
            ]
          },
          "metadata": {
            "tags": []
          },
          "execution_count": 16
        }
      ]
    },
    {
      "cell_type": "code",
      "metadata": {
        "id": "MwuTRVhQ2Vve",
        "colab_type": "code",
        "colab": {
          "base_uri": "https://localhost:8080/",
          "height": 68
        },
        "outputId": "6c6f95a2-2e99-414c-df87-44c507409623"
      },
      "source": [
        "replace_dots=[string.replace(\".\",\"\") for string in strip_white_space]\n",
        "replace_dots"
      ],
      "execution_count": 17,
      "outputs": [
        {
          "output_type": "execute_result",
          "data": {
            "text/plain": [
              "['Interrobang By Aishwarya Henriette',\n",
              " 'Parking And Going By Karl Gautier',\n",
              " 'Today Is The night By Jarek Prakash']"
            ]
          },
          "metadata": {
            "tags": []
          },
          "execution_count": 17
        }
      ]
    },
    {
      "cell_type": "code",
      "metadata": {
        "id": "kbQfsWeL2kX0",
        "colab_type": "code",
        "colab": {
          "base_uri": "https://localhost:8080/",
          "height": 68
        },
        "outputId": "dd1c171b-df0a-4ec8-bd12-d60820db183b"
      },
      "source": [
        "capital=[string.upper() for string in replace_dots]\n",
        "capital"
      ],
      "execution_count": 19,
      "outputs": [
        {
          "output_type": "execute_result",
          "data": {
            "text/plain": [
              "['INTERROBANG BY AISHWARYA HENRIETTE',\n",
              " 'PARKING AND GOING BY KARL GAUTIER',\n",
              " 'TODAY IS THE NIGHT BY JAREK PRAKASH']"
            ]
          },
          "metadata": {
            "tags": []
          },
          "execution_count": 19
        }
      ]
    },
    {
      "cell_type": "code",
      "metadata": {
        "id": "ADyDcAX-20KD",
        "colab_type": "code",
        "colab": {
          "base_uri": "https://localhost:8080/",
          "height": 68
        },
        "outputId": "5d0adc44-b52c-4d67-ee0e-8f65721fe0cf"
      },
      "source": [
        "import re\n",
        "def replace_letters_with_X(string:str)->str:\n",
        "  return re.sub(r\"[a-zA-Z]\",\"X\",string)\n",
        "[replace_letters_with_X(string) for string in capital]\n"
      ],
      "execution_count": 20,
      "outputs": [
        {
          "output_type": "execute_result",
          "data": {
            "text/plain": [
              "['XXXXXXXXXXX XX XXXXXXXXX XXXXXXXXX',\n",
              " 'XXXXXXX XXX XXXXX XX XXXX XXXXXXX',\n",
              " 'XXXXX XX XXX XXXXX XX XXXXX XXXXXXX']"
            ]
          },
          "metadata": {
            "tags": []
          },
          "execution_count": 20
        }
      ]
    },
    {
      "cell_type": "markdown",
      "metadata": {
        "id": "niquvX_r4AT6",
        "colab_type": "text"
      },
      "source": [
        "Q3.You have text data with HTML elements and want to extract just the text"
      ]
    },
    {
      "cell_type": "code",
      "metadata": {
        "id": "OgFc68PO3NTL",
        "colab_type": "code",
        "colab": {
          "base_uri": "https://localhost:8080/",
          "height": 35
        },
        "outputId": "7fdd6542-f9d3-4bbb-d638-09cf7b7e47fe"
      },
      "source": [
        "from bs4 import BeautifulSoup\n",
        "html= \"\"\"<div class='full_name'><span style='font-weight:bold'> Masego</span> Azra</div>\"\"\"\n",
        "soup=BeautifulSoup(html,\"xml\")\n",
        "soup.find(\"div\",{\"class\":\"full_name\"}).text\n"
      ],
      "execution_count": 24,
      "outputs": [
        {
          "output_type": "execute_result",
          "data": {
            "application/vnd.google.colaboratory.intrinsic": {
              "type": "string"
            },
            "text/plain": [
              "' Masego Azra'"
            ]
          },
          "metadata": {
            "tags": []
          },
          "execution_count": 24
        }
      ]
    },
    {
      "cell_type": "markdown",
      "metadata": {
        "id": "gIjT9qQn4vBn",
        "colab_type": "text"
      },
      "source": [
        "Q4.You have a feature of text data and want to remove punctuation. "
      ]
    },
    {
      "cell_type": "code",
      "metadata": {
        "id": "IUjpctbq4yqd",
        "colab_type": "code",
        "colab": {
          "base_uri": "https://localhost:8080/",
          "height": 34
        },
        "outputId": "c539c044-dde8-4b72-b60a-4fb236b96f10"
      },
      "source": [
        "import unicodedata\n",
        "import sys\n",
        "text_data=[\"Hi!!!!!I. Love. This. Song....\",'1000000% AAgree!!!! #LoveIt',\"Right?!?!?!\"]\n",
        "punctuation=dict.fromkeys(i for i in range(sys.maxunicode) if unicodedata.category(chr(i)).startswith('P'))\n",
        "[string.translate(punctuation) for string in text_data]\n"
      ],
      "execution_count": 25,
      "outputs": [
        {
          "output_type": "execute_result",
          "data": {
            "text/plain": [
              "['HiI Love This Song', '1000000 AAgree LoveIt', 'Right']"
            ]
          },
          "metadata": {
            "tags": []
          },
          "execution_count": 25
        }
      ]
    },
    {
      "cell_type": "code",
      "metadata": {
        "id": "2aaa5X3T8cbr",
        "colab_type": "code",
        "colab": {}
      },
      "source": [
        ""
      ],
      "execution_count": null,
      "outputs": []
    }
  ]
}